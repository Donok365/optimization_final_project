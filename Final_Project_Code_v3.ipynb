{
 "cells": [
  {
   "cell_type": "code",
   "execution_count": 1,
   "id": "63158893",
   "metadata": {},
   "outputs": [],
   "source": [
    "import gurobipy as gp\n",
    "import matplotlib.pyplot as plt\n",
    "import csv\n",
    "import re"
   ]
  },
  {
   "cell_type": "code",
   "execution_count": 11,
   "id": "1160c193",
   "metadata": {},
   "outputs": [],
   "source": [
    "# Code that may be used to obtain coordinates \n",
    "'''\n",
    "geolocator = Nominatim (user_agent = 'my app')\n",
    "location = geolocator.geocode(\"boston, ma\") #user defined location\n",
    "park_number_dict = {0: 'Boston'}\n",
    "coordinates = [['Boston',location.latitude,location.longitude]]\n",
    "'''\n",
    "\n",
    "# import national park data and starting location\n",
    "# add source (later)\n",
    "np_filein = open('Updated_input_Boston.csv', 'r', encoding='UTF-8')\n",
    "csv_reader = csv.reader(np_filein, delimiter=',')\n",
    "coordinates = []\n",
    "park_number_dict = {}\n",
    "\n",
    "park_number_dict = {}\n",
    "header = next(csv_reader)\n",
    "counter = 0\n",
    "\n",
    "for row in csv_reader:\n",
    "    np_in = [row[2], row[0], row[1]]\n",
    "    coordinates.append(np_in)\n",
    "    park_number_dict[counter] = row[2]\n",
    "    counter += 1\n",
    "    \n",
    "np_filein.close()\n",
    "\n",
    "#print(park_number_dict)\n",
    "#print(coordinates)"
   ]
  },
  {
   "cell_type": "code",
   "execution_count": 12,
   "id": "3bb85452",
   "metadata": {},
   "outputs": [],
   "source": [
    "## Variable definitions\n",
    "travel = {}\n",
    "park_sequence = {}\n",
    "subtour = {}"
   ]
  },
  {
   "cell_type": "code",
   "execution_count": 60,
   "id": "ae59f70c",
   "metadata": {
    "scrolled": true
   },
   "outputs": [],
   "source": [
    "# INPUT PARAMETERS\n",
    "# Is there a way to print an error if not in list? For future maybe...OR we could do random generator for location on list?\n",
    "\n",
    "# User-defined\n",
    "max_trip_length = 10 # days\n",
    "max_subtrips = 25 #starting point (WARM START!!!!)\n",
    "\n",
    "# Static\n",
    "trip_origin = 0\n",
    "num_parks = len(coordinates)\n",
    "M = 1e8\n",
    "\n",
    "# Static but with possible future user-defined option\n",
    "hours_in_day = 16\n",
    "length_of_stay = 16 #hours at each park; Future option could include a matrix by destination\n",
    "flight_time = 16 # Future option could consider pulling flight time from an API and compare with drive time\n"
   ]
  },
  {
   "cell_type": "code",
   "execution_count": 61,
   "id": "ea2e4f1b",
   "metadata": {},
   "outputs": [],
   "source": [
    "# Calculate travel time matrix from Google API (file is the output)\n",
    "\n",
    "np_matrix = open('distancematrix_file_new.csv', 'r', encoding='UTF-8')\n",
    "csv_reader = csv.reader(np_matrix, delimiter=',')\n",
    "\n",
    "header = next(csv_reader)"
   ]
  },
  {
   "cell_type": "code",
   "execution_count": 62,
   "id": "b4fe565f",
   "metadata": {},
   "outputs": [],
   "source": [
    "# Read travel times into a matrix table; Each list travel is the list of travel times from an origin\n",
    "#for i in range(0, len(traveltimes)):\n",
    "    #travel[i] = traveltimes[i][0:]\n",
    "#print(travel)\n",
    "\n",
    "def np_dd_parse(dd_input):\n",
    "    pattern = r';'\n",
    "    l = re.split(pattern, dd_input) \n",
    "    \n",
    "    return l\n",
    "\n",
    "# Read travel times into a dictionary of dictionaries; The origin is the outside dictionary key and the value is a dictionary of travel times to a destination\n",
    "# For islands, the travel time and duration is set to M value (1e8)\n",
    "travel = {}\n",
    "    \n",
    "np_matrix = open('distancematrix_file_new.csv', 'r', encoding='UTF-8')\n",
    "csv_reader = csv.reader(np_matrix, delimiter=',')\n",
    "\n",
    "header = next(csv_reader)\n",
    "flight_matrix = [] # list of parks that are worth flying to from the origin \n",
    "individual_trips = [] # list of special parks that must be excluded from general trip\n",
    "\n",
    "for row in csv_reader:\n",
    "    np_dict_internal = {}\n",
    "    header_count = 0\n",
    "    park_count = -1\n",
    "    for np in row:\n",
    "        \n",
    "        if header_count > 0:\n",
    "            if row[0] == park_number_dict[0] or park_count == 0:\n",
    "                if np_dd_parse(np)[0] == 'N/A':\n",
    "                    dd_tuple = (-1, flight_time) #-1 long distance, difficult to calculate real route\n",
    "                    if header_count > 1: \n",
    "                        individual_trips.append(header_count-1)\n",
    "                        flight_matrix.append(header_count-1)\n",
    "                elif float(np_dd_parse(np)[1]) > flight_time:\n",
    "                    dd_tuple = (float(np_dd_parse(np)[0]), flight_time)\n",
    "                    if header_count > 1: \n",
    "                        flight_matrix.append(header_count-1) \n",
    "                else:\n",
    "                    dd_tuple = (float(np_dd_parse(np)[0]), float(np_dd_parse(np)[1]))\n",
    "            else:\n",
    "                if np_dd_parse(np)[0] != 'N/A':                    \n",
    "                    dd_tuple = (float(np_dd_parse(np)[0]), float(np_dd_parse(np)[1]))\n",
    "                else:\n",
    "                    dd_tuple = (-1, M) #-1 long distance, difficult to calculate real route\n",
    "            np_dict_internal[header[header_count]] = dd_tuple\n",
    "        header_count += 1\n",
    "        park_count += 1\n",
    "        \n",
    "    travel[row[0]] = np_dict_internal\n",
    " \n",
    "np_matrix.close()\n",
    "\n",
    "# print(flight_matrix)\n",
    "# print(individual_trips) \n",
    "# print(travel['Boston']) # Dictionary is Destination: (Distance, Time)"
   ]
  },
  {
   "cell_type": "code",
   "execution_count": 64,
   "id": "f4aa020e",
   "metadata": {},
   "outputs": [
    {
     "data": {
      "text/plain": [
       "<gurobi.Constr *Awaiting Model Update*>"
      ]
     },
     "execution_count": 64,
     "metadata": {},
     "output_type": "execute_result"
    }
   ],
   "source": [
    "#Model\n",
    "m = gp.Model(\"national_park_trips\")\n",
    "\n",
    "#Decision variables\n",
    "#define Pijk's (Park sequence binary variable)\n",
    "for trip in range(max_subtrips):\n",
    "    for origin in range(num_parks):\n",
    "        for destination in range (num_parks):\n",
    "            park_sequence[origin,destination,trip] = m.addVar(vtype = gp.GRB.BINARY) \n",
    "            \n",
    "\n",
    "for origin in range(num_parks):      #subtour elimination\n",
    "    if (origin != 0) and (origin not in individual_trips): # code logic excludes individual trips\n",
    "        subtour[origin] = m.addVar(lb = 1, ub = num_parks-1*len(individual_trips)) \n",
    "    else:\n",
    "        subtour[origin] = m.addVar()\n",
    "            \n",
    "            \n",
    "# Set objective function; to minimize total time across all subtrips\n",
    "m.setObjective(sum(sum(sum(park_sequence[origin, destination, trip] * travel[park_number_dict[origin]][park_number_dict[destination]][1]\n",
    "                           for origin in range(num_parks)) \n",
    "                       for destination in range(num_parks)) \n",
    "                   for trip in range(max_subtrips)) \n",
    "               + length_of_stay*(sum(park_sequence[origin, destination, trip] \n",
    "                                     for origin in range(num_parks) \n",
    "                                     for destination in range(1,num_parks)\n",
    "                                     for trip in range(max_subtrips))), gp.GRB.MINIMIZE)\n",
    "\n",
    "# Constraints\n",
    "# Must visit each park one time (assumes closed loop, and counting 16 hours only at the destination)\n",
    "for destination in range(1, num_parks):\n",
    "    m.addConstr(sum(sum(park_sequence[origin, destination, trip] for origin in range(num_parks)) \n",
    "                    for trip in range(max_subtrips)) == 1)\n",
    "\n",
    "# Leave park if visited in trip\n",
    "for trip in range(max_subtrips):\n",
    "    for origin in range(num_parks):\n",
    "        m.addConstr(sum(park_sequence[origin, destination, trip] for destination in range(num_parks)) == \n",
    "                    sum(park_sequence[destination, origin, trip] for destination in range(num_parks)))\n",
    "        \n",
    "        # An arc can never have the same origin and destination\n",
    "        m.addConstr(park_sequence[origin, origin, trip] == 0)\n",
    "\n",
    "    \n",
    "# Travel time for each trip cannot exceed the defined limit (trip length in hours)\n",
    "for trip in range(max_subtrips):\n",
    "    m.addConstr(sum(sum(park_sequence[origin, destination, trip] * travel[park_number_dict[origin]][park_number_dict[destination]][1] \n",
    "                        for origin in range(num_parks)) \n",
    "                    for destination in range(num_parks)) \n",
    "                <= max_trip_length * hours_in_day \n",
    "                - length_of_stay*(sum(park_sequence[origin, destination, trip] \n",
    "                                      for origin in range(num_parks) \n",
    "                                      for destination in range(1,num_parks))))\n",
    "\n",
    "# Activate origin if trip is needed\n",
    "for trip in range(max_subtrips):\n",
    "    m.addConstr(sum(park_sequence[trip_origin, destination, trip] for destination in range(1,num_parks))<= 1)\n",
    "    m.addConstr(sum(sum(park_sequence[origin, destination, trip] for origin in range(num_parks)) \n",
    "                    for destination in range(num_parks)) \n",
    "                <= M*sum(park_sequence[trip_origin, destination, trip] \n",
    "                         for destination in range(num_parks)))\n",
    "\n",
    "# Subtour elimination constraint\n",
    "for origin in range(1, num_parks):\n",
    "    for destination in range(1, num_parks):\n",
    "            if (origin != destination) and (origin not in individual_trips) and (destination not in individual_trips) :\n",
    "                m.addConstr(subtour[origin] + (num_parks-1)*sum(park_sequence[origin,destination,trip] for trip in range(max_subtrips)) \n",
    "                        <= subtour[destination] + (num_parks-2))\n",
    "                \n",
    "# Create individual trips for special parks. LOGIC ONLY, NOT in MIP formal formulation\n",
    "for trip in range(len(individual_trips)):\n",
    "    m.addConstr(park_sequence[0, individual_trips[trip], trip] == 1)\n",
    "    m.addConstr(park_sequence[individual_trips[trip], 0, trip] == 1)\n",
    "    \n",
    "# Warm start\n",
    "m.addConstr(sum(park_sequence[0, destination, trip] for destination in range(num_parks) for trip in range(max_subtrips)) >= 1 + len(individual_trips))\n",
    "\n",
    "            "
   ]
  },
  {
   "cell_type": "code",
   "execution_count": null,
   "id": "61f4f6ce",
   "metadata": {},
   "outputs": [
    {
     "name": "stdout",
     "output_type": "stream",
     "text": [
      "Set parameter TimeLimit to value 100\n",
      "Set parameter MIPFocus to value 1\n",
      "Gurobi Optimizer version 9.5.1 build v9.5.1rc2 (win64)\n",
      "Thread count: 4 physical cores, 8 logical processors, using up to 8 threads\n",
      "Optimize a model with 6602 rows, 99288 columns and 585345 nonzeros\n",
      "Model fingerprint: 0xd6104eac\n",
      "Variable types: 63 continuous, 99225 integer (99225 binary)\n",
      "Coefficient statistics:\n",
      "  Matrix range     [1e+00, 1e+08]\n",
      "  Objective range  [5e+00, 1e+08]\n",
      "  Bounds range     [1e+00, 6e+01]\n",
      "  RHS range        [1e+00, 2e+02]\n",
      "Warning: Model contains large matrix coefficients\n",
      "         Consider reformulating model or setting NumericFocus parameter\n",
      "         to avoid numerical issues.\n",
      "Presolve removed 1722 rows and 14935 columns\n",
      "Presolve time: 1.41s\n",
      "Presolved: 4880 rows, 84353 columns, 491871 nonzeros\n",
      "Variable types: 58 continuous, 84295 integer (84295 binary)\n",
      "\n",
      "Root relaxation: objective 1.391373e+03, 3436 iterations, 0.50 seconds (0.75 work units)\n",
      "\n",
      "    Nodes    |    Current Node    |     Objective Bounds      |     Work\n",
      " Expl Unexpl |  Obj  Depth IntInf | Incumbent    BestBd   Gap | It/Node Time\n",
      "\n",
      "     0     0 1391.37261    0  158          - 1391.37261      -     -    2s\n",
      "     0     0 1403.64742    0  261          - 1403.64742      -     -    4s\n",
      "     0     0 1429.08846    0  187          - 1429.08846      -     -    8s\n",
      "     0     0 1430.72346    0  193          - 1430.72346      -     -    8s\n",
      "     0     0 1430.72346    0  193          - 1430.72346      -     -    9s\n",
      "     0     0 1430.73273    0  216          - 1430.73273      -     -   10s\n",
      "     0     0 1430.73273    0  208          - 1430.73273      -     -   11s\n",
      "     0     0 1430.73439    0  258          - 1430.73439      -     -   12s\n",
      "     0     0 1430.73439    0  251          - 1430.73439      -     -   13s\n",
      "     0     0 1430.73500    0  266          - 1430.73500      -     -   14s\n",
      "     0     0 1430.73512    0  273          - 1430.73512      -     -   15s\n",
      "     0     0 1430.77142    0  267          - 1430.77142      -     -   16s\n",
      "     0     2 1430.77142    0  254          - 1430.77142      -     -   61s\n",
      "     3     8 1430.80690    2  254          - 1430.80690      -  1308   65s\n"
     ]
    }
   ],
   "source": [
    "m.Params.timelimit = 100\n",
    "\n",
    "# ACTIVATE IF CONSIDERED APPROPRIATE AFTER TUNING \n",
    "# m.Params.MIPFocus = 1 # Uncomment for short trip lengths\n",
    "m.Params.Heuristics = 0.4 # Uncomment for short trip lengths\n",
    "# m.Params.Cuts = 0 # Uncomment for short trip lengths\n",
    "# m.Params.Symmetry = 2 \n",
    "# m.Params.ImproveStartTime = 50\n",
    "\n",
    "m.optimize()"
   ]
  },
  {
   "cell_type": "code",
   "execution_count": 41,
   "id": "9e9c4197",
   "metadata": {},
   "outputs": [],
   "source": [
    "# OPTION TO TUNE GUROBI's PARAMETERS TO IMPROVE SOLUTION\n",
    "# m.Params.timelimit = 200\n",
    "# m.Params.TuneTimeLimit = 9000\n",
    "# m.tune()"
   ]
  },
  {
   "cell_type": "code",
   "execution_count": 50,
   "id": "2265c335",
   "metadata": {},
   "outputs": [],
   "source": [
    "# Pull out information from the optimized solution\n",
    "\n",
    "routes_parks = {}\n",
    "routes_numbers = {}\n",
    "travel_summary = {}\n",
    "\n",
    "for trip in range(max_subtrips):\n",
    "    next_origin = 0\n",
    "    drive_distance = 0\n",
    "    flight_count = 0\n",
    "    travel_time = 0\n",
    "    time_at_parks = 0\n",
    "    \n",
    "    if sum(park_sequence[next_origin,destination,trip].x for origin in range(num_parks) for destination in range(num_parks)) > 0:\n",
    "        routes_parks[trip] = [park_number_dict[0]]\n",
    "        routes_numbers[trip] = [0]\n",
    "        \n",
    "        while next_origin != -1:\n",
    "            \n",
    "            for destination in range(num_parks):\n",
    "                if park_sequence[next_origin,destination,trip].x == 1:\n",
    "                    routes_parks[trip].append(park_number_dict[destination])\n",
    "                    routes_numbers[trip].append(destination)\n",
    "\n",
    "                    drive_distance += travel[routes_parks[trip][-2]][routes_parks[trip][-1]][0]\n",
    "                    travel_time += travel[routes_parks[trip][-2]][routes_parks[trip][-1]][1]\n",
    "                    if (next_origin == 0 and destination in flight_matrix) or (destination == 0 and routes_numbers[trip][-2] in flight_matrix): \n",
    "                        flight_count += 1\n",
    "                    \n",
    "                    next_origin = destination\n",
    "                    break\n",
    "\n",
    "            if next_origin == 0: \n",
    "                drive_distance += flight_count\n",
    "                time_at_parks += length_of_stay*(len(routes_parks[trip])-2)\n",
    "                next_origin = -1\n",
    "\n",
    "        travel_summary[trip] = [drive_distance, travel_time, time_at_parks, flight_count]\n",
    "\n",
    "# print(travel_summary)\n",
    "# print(routes_parks)\n",
    "# print(routes_numbers)"
   ]
  },
  {
   "cell_type": "code",
   "execution_count": 53,
   "id": "fd766a8e",
   "metadata": {},
   "outputs": [
    {
     "name": "stderr",
     "output_type": "stream",
     "text": [
      "C:\\Users\\cuaco\\AppData\\Local\\Temp\\ipykernel_24324\\3813840863.py:15: FutureWarning:\n",
      "\n",
      "The frame.append method is deprecated and will be removed from pandas in a future version. Use pandas.concat instead.\n",
      "\n",
      "C:\\Users\\cuaco\\AppData\\Local\\Temp\\ipykernel_24324\\3813840863.py:17: FutureWarning:\n",
      "\n",
      "The frame.append method is deprecated and will be removed from pandas in a future version. Use pandas.concat instead.\n",
      "\n",
      "C:\\Users\\cuaco\\AppData\\Local\\Temp\\ipykernel_24324\\3813840863.py:15: FutureWarning:\n",
      "\n",
      "The frame.append method is deprecated and will be removed from pandas in a future version. Use pandas.concat instead.\n",
      "\n",
      "C:\\Users\\cuaco\\AppData\\Local\\Temp\\ipykernel_24324\\3813840863.py:15: FutureWarning:\n",
      "\n",
      "The frame.append method is deprecated and will be removed from pandas in a future version. Use pandas.concat instead.\n",
      "\n",
      "C:\\Users\\cuaco\\AppData\\Local\\Temp\\ipykernel_24324\\3813840863.py:17: FutureWarning:\n",
      "\n",
      "The frame.append method is deprecated and will be removed from pandas in a future version. Use pandas.concat instead.\n",
      "\n",
      "C:\\Users\\cuaco\\AppData\\Local\\Temp\\ipykernel_24324\\3813840863.py:15: FutureWarning:\n",
      "\n",
      "The frame.append method is deprecated and will be removed from pandas in a future version. Use pandas.concat instead.\n",
      "\n",
      "C:\\Users\\cuaco\\AppData\\Local\\Temp\\ipykernel_24324\\3813840863.py:15: FutureWarning:\n",
      "\n",
      "The frame.append method is deprecated and will be removed from pandas in a future version. Use pandas.concat instead.\n",
      "\n",
      "C:\\Users\\cuaco\\AppData\\Local\\Temp\\ipykernel_24324\\3813840863.py:17: FutureWarning:\n",
      "\n",
      "The frame.append method is deprecated and will be removed from pandas in a future version. Use pandas.concat instead.\n",
      "\n",
      "C:\\Users\\cuaco\\AppData\\Local\\Temp\\ipykernel_24324\\3813840863.py:15: FutureWarning:\n",
      "\n",
      "The frame.append method is deprecated and will be removed from pandas in a future version. Use pandas.concat instead.\n",
      "\n",
      "C:\\Users\\cuaco\\AppData\\Local\\Temp\\ipykernel_24324\\3813840863.py:15: FutureWarning:\n",
      "\n",
      "The frame.append method is deprecated and will be removed from pandas in a future version. Use pandas.concat instead.\n",
      "\n",
      "C:\\Users\\cuaco\\AppData\\Local\\Temp\\ipykernel_24324\\3813840863.py:17: FutureWarning:\n",
      "\n",
      "The frame.append method is deprecated and will be removed from pandas in a future version. Use pandas.concat instead.\n",
      "\n",
      "C:\\Users\\cuaco\\AppData\\Local\\Temp\\ipykernel_24324\\3813840863.py:15: FutureWarning:\n",
      "\n",
      "The frame.append method is deprecated and will be removed from pandas in a future version. Use pandas.concat instead.\n",
      "\n",
      "C:\\Users\\cuaco\\AppData\\Local\\Temp\\ipykernel_24324\\3813840863.py:15: FutureWarning:\n",
      "\n",
      "The frame.append method is deprecated and will be removed from pandas in a future version. Use pandas.concat instead.\n",
      "\n",
      "C:\\Users\\cuaco\\AppData\\Local\\Temp\\ipykernel_24324\\3813840863.py:17: FutureWarning:\n",
      "\n",
      "The frame.append method is deprecated and will be removed from pandas in a future version. Use pandas.concat instead.\n",
      "\n",
      "C:\\Users\\cuaco\\AppData\\Local\\Temp\\ipykernel_24324\\3813840863.py:17: FutureWarning:\n",
      "\n",
      "The frame.append method is deprecated and will be removed from pandas in a future version. Use pandas.concat instead.\n",
      "\n",
      "C:\\Users\\cuaco\\AppData\\Local\\Temp\\ipykernel_24324\\3813840863.py:17: FutureWarning:\n",
      "\n",
      "The frame.append method is deprecated and will be removed from pandas in a future version. Use pandas.concat instead.\n",
      "\n",
      "C:\\Users\\cuaco\\AppData\\Local\\Temp\\ipykernel_24324\\3813840863.py:17: FutureWarning:\n",
      "\n",
      "The frame.append method is deprecated and will be removed from pandas in a future version. Use pandas.concat instead.\n",
      "\n",
      "C:\\Users\\cuaco\\AppData\\Local\\Temp\\ipykernel_24324\\3813840863.py:15: FutureWarning:\n",
      "\n",
      "The frame.append method is deprecated and will be removed from pandas in a future version. Use pandas.concat instead.\n",
      "\n",
      "C:\\Users\\cuaco\\AppData\\Local\\Temp\\ipykernel_24324\\3813840863.py:15: FutureWarning:\n",
      "\n",
      "The frame.append method is deprecated and will be removed from pandas in a future version. Use pandas.concat instead.\n",
      "\n",
      "C:\\Users\\cuaco\\AppData\\Local\\Temp\\ipykernel_24324\\3813840863.py:17: FutureWarning:\n",
      "\n",
      "The frame.append method is deprecated and will be removed from pandas in a future version. Use pandas.concat instead.\n",
      "\n",
      "C:\\Users\\cuaco\\AppData\\Local\\Temp\\ipykernel_24324\\3813840863.py:17: FutureWarning:\n",
      "\n",
      "The frame.append method is deprecated and will be removed from pandas in a future version. Use pandas.concat instead.\n",
      "\n",
      "C:\\Users\\cuaco\\AppData\\Local\\Temp\\ipykernel_24324\\3813840863.py:17: FutureWarning:\n",
      "\n",
      "The frame.append method is deprecated and will be removed from pandas in a future version. Use pandas.concat instead.\n",
      "\n",
      "C:\\Users\\cuaco\\AppData\\Local\\Temp\\ipykernel_24324\\3813840863.py:17: FutureWarning:\n",
      "\n",
      "The frame.append method is deprecated and will be removed from pandas in a future version. Use pandas.concat instead.\n",
      "\n",
      "C:\\Users\\cuaco\\AppData\\Local\\Temp\\ipykernel_24324\\3813840863.py:17: FutureWarning:\n",
      "\n",
      "The frame.append method is deprecated and will be removed from pandas in a future version. Use pandas.concat instead.\n",
      "\n",
      "C:\\Users\\cuaco\\AppData\\Local\\Temp\\ipykernel_24324\\3813840863.py:15: FutureWarning:\n",
      "\n",
      "The frame.append method is deprecated and will be removed from pandas in a future version. Use pandas.concat instead.\n",
      "\n",
      "C:\\Users\\cuaco\\AppData\\Local\\Temp\\ipykernel_24324\\3813840863.py:15: FutureWarning:\n",
      "\n",
      "The frame.append method is deprecated and will be removed from pandas in a future version. Use pandas.concat instead.\n",
      "\n",
      "C:\\Users\\cuaco\\AppData\\Local\\Temp\\ipykernel_24324\\3813840863.py:17: FutureWarning:\n",
      "\n",
      "The frame.append method is deprecated and will be removed from pandas in a future version. Use pandas.concat instead.\n",
      "\n",
      "C:\\Users\\cuaco\\AppData\\Local\\Temp\\ipykernel_24324\\3813840863.py:17: FutureWarning:\n",
      "\n",
      "The frame.append method is deprecated and will be removed from pandas in a future version. Use pandas.concat instead.\n",
      "\n",
      "C:\\Users\\cuaco\\AppData\\Local\\Temp\\ipykernel_24324\\3813840863.py:17: FutureWarning:\n",
      "\n",
      "The frame.append method is deprecated and will be removed from pandas in a future version. Use pandas.concat instead.\n",
      "\n",
      "C:\\Users\\cuaco\\AppData\\Local\\Temp\\ipykernel_24324\\3813840863.py:17: FutureWarning:\n",
      "\n",
      "The frame.append method is deprecated and will be removed from pandas in a future version. Use pandas.concat instead.\n",
      "\n",
      "C:\\Users\\cuaco\\AppData\\Local\\Temp\\ipykernel_24324\\3813840863.py:17: FutureWarning:\n",
      "\n",
      "The frame.append method is deprecated and will be removed from pandas in a future version. Use pandas.concat instead.\n",
      "\n",
      "C:\\Users\\cuaco\\AppData\\Local\\Temp\\ipykernel_24324\\3813840863.py:15: FutureWarning:\n",
      "\n",
      "The frame.append method is deprecated and will be removed from pandas in a future version. Use pandas.concat instead.\n",
      "\n",
      "C:\\Users\\cuaco\\AppData\\Local\\Temp\\ipykernel_24324\\3813840863.py:15: FutureWarning:\n",
      "\n",
      "The frame.append method is deprecated and will be removed from pandas in a future version. Use pandas.concat instead.\n",
      "\n",
      "C:\\Users\\cuaco\\AppData\\Local\\Temp\\ipykernel_24324\\3813840863.py:17: FutureWarning:\n",
      "\n",
      "The frame.append method is deprecated and will be removed from pandas in a future version. Use pandas.concat instead.\n",
      "\n",
      "C:\\Users\\cuaco\\AppData\\Local\\Temp\\ipykernel_24324\\3813840863.py:17: FutureWarning:\n",
      "\n",
      "The frame.append method is deprecated and will be removed from pandas in a future version. Use pandas.concat instead.\n",
      "\n",
      "C:\\Users\\cuaco\\AppData\\Local\\Temp\\ipykernel_24324\\3813840863.py:17: FutureWarning:\n",
      "\n",
      "The frame.append method is deprecated and will be removed from pandas in a future version. Use pandas.concat instead.\n",
      "\n",
      "C:\\Users\\cuaco\\AppData\\Local\\Temp\\ipykernel_24324\\3813840863.py:17: FutureWarning:\n",
      "\n",
      "The frame.append method is deprecated and will be removed from pandas in a future version. Use pandas.concat instead.\n",
      "\n",
      "C:\\Users\\cuaco\\AppData\\Local\\Temp\\ipykernel_24324\\3813840863.py:17: FutureWarning:\n",
      "\n",
      "The frame.append method is deprecated and will be removed from pandas in a future version. Use pandas.concat instead.\n",
      "\n",
      "C:\\Users\\cuaco\\AppData\\Local\\Temp\\ipykernel_24324\\3813840863.py:15: FutureWarning:\n",
      "\n",
      "The frame.append method is deprecated and will be removed from pandas in a future version. Use pandas.concat instead.\n",
      "\n",
      "C:\\Users\\cuaco\\AppData\\Local\\Temp\\ipykernel_24324\\3813840863.py:15: FutureWarning:\n",
      "\n",
      "The frame.append method is deprecated and will be removed from pandas in a future version. Use pandas.concat instead.\n",
      "\n",
      "C:\\Users\\cuaco\\AppData\\Local\\Temp\\ipykernel_24324\\3813840863.py:17: FutureWarning:\n",
      "\n",
      "The frame.append method is deprecated and will be removed from pandas in a future version. Use pandas.concat instead.\n",
      "\n",
      "C:\\Users\\cuaco\\AppData\\Local\\Temp\\ipykernel_24324\\3813840863.py:17: FutureWarning:\n",
      "\n",
      "The frame.append method is deprecated and will be removed from pandas in a future version. Use pandas.concat instead.\n",
      "\n",
      "C:\\Users\\cuaco\\AppData\\Local\\Temp\\ipykernel_24324\\3813840863.py:17: FutureWarning:\n",
      "\n",
      "The frame.append method is deprecated and will be removed from pandas in a future version. Use pandas.concat instead.\n",
      "\n",
      "C:\\Users\\cuaco\\AppData\\Local\\Temp\\ipykernel_24324\\3813840863.py:17: FutureWarning:\n",
      "\n",
      "The frame.append method is deprecated and will be removed from pandas in a future version. Use pandas.concat instead.\n",
      "\n",
      "C:\\Users\\cuaco\\AppData\\Local\\Temp\\ipykernel_24324\\3813840863.py:17: FutureWarning:\n",
      "\n",
      "The frame.append method is deprecated and will be removed from pandas in a future version. Use pandas.concat instead.\n",
      "\n",
      "C:\\Users\\cuaco\\AppData\\Local\\Temp\\ipykernel_24324\\3813840863.py:15: FutureWarning:\n",
      "\n",
      "The frame.append method is deprecated and will be removed from pandas in a future version. Use pandas.concat instead.\n",
      "\n",
      "C:\\Users\\cuaco\\AppData\\Local\\Temp\\ipykernel_24324\\3813840863.py:15: FutureWarning:\n",
      "\n",
      "The frame.append method is deprecated and will be removed from pandas in a future version. Use pandas.concat instead.\n",
      "\n",
      "C:\\Users\\cuaco\\AppData\\Local\\Temp\\ipykernel_24324\\3813840863.py:17: FutureWarning:\n",
      "\n",
      "The frame.append method is deprecated and will be removed from pandas in a future version. Use pandas.concat instead.\n",
      "\n",
      "C:\\Users\\cuaco\\AppData\\Local\\Temp\\ipykernel_24324\\3813840863.py:17: FutureWarning:\n",
      "\n",
      "The frame.append method is deprecated and will be removed from pandas in a future version. Use pandas.concat instead.\n",
      "\n",
      "C:\\Users\\cuaco\\AppData\\Local\\Temp\\ipykernel_24324\\3813840863.py:17: FutureWarning:\n",
      "\n",
      "The frame.append method is deprecated and will be removed from pandas in a future version. Use pandas.concat instead.\n",
      "\n",
      "C:\\Users\\cuaco\\AppData\\Local\\Temp\\ipykernel_24324\\3813840863.py:17: FutureWarning:\n",
      "\n",
      "The frame.append method is deprecated and will be removed from pandas in a future version. Use pandas.concat instead.\n",
      "\n",
      "C:\\Users\\cuaco\\AppData\\Local\\Temp\\ipykernel_24324\\3813840863.py:17: FutureWarning:\n",
      "\n",
      "The frame.append method is deprecated and will be removed from pandas in a future version. Use pandas.concat instead.\n",
      "\n",
      "C:\\Users\\cuaco\\AppData\\Local\\Temp\\ipykernel_24324\\3813840863.py:17: FutureWarning:\n",
      "\n",
      "The frame.append method is deprecated and will be removed from pandas in a future version. Use pandas.concat instead.\n",
      "\n",
      "C:\\Users\\cuaco\\AppData\\Local\\Temp\\ipykernel_24324\\3813840863.py:15: FutureWarning:\n",
      "\n",
      "The frame.append method is deprecated and will be removed from pandas in a future version. Use pandas.concat instead.\n",
      "\n",
      "C:\\Users\\cuaco\\AppData\\Local\\Temp\\ipykernel_24324\\3813840863.py:15: FutureWarning:\n",
      "\n",
      "The frame.append method is deprecated and will be removed from pandas in a future version. Use pandas.concat instead.\n",
      "\n",
      "C:\\Users\\cuaco\\AppData\\Local\\Temp\\ipykernel_24324\\3813840863.py:17: FutureWarning:\n",
      "\n",
      "The frame.append method is deprecated and will be removed from pandas in a future version. Use pandas.concat instead.\n",
      "\n",
      "C:\\Users\\cuaco\\AppData\\Local\\Temp\\ipykernel_24324\\3813840863.py:17: FutureWarning:\n",
      "\n",
      "The frame.append method is deprecated and will be removed from pandas in a future version. Use pandas.concat instead.\n",
      "\n",
      "C:\\Users\\cuaco\\AppData\\Local\\Temp\\ipykernel_24324\\3813840863.py:15: FutureWarning:\n",
      "\n",
      "The frame.append method is deprecated and will be removed from pandas in a future version. Use pandas.concat instead.\n",
      "\n",
      "C:\\Users\\cuaco\\AppData\\Local\\Temp\\ipykernel_24324\\3813840863.py:15: FutureWarning:\n",
      "\n",
      "The frame.append method is deprecated and will be removed from pandas in a future version. Use pandas.concat instead.\n",
      "\n",
      "C:\\Users\\cuaco\\AppData\\Local\\Temp\\ipykernel_24324\\3813840863.py:17: FutureWarning:\n",
      "\n",
      "The frame.append method is deprecated and will be removed from pandas in a future version. Use pandas.concat instead.\n",
      "\n",
      "C:\\Users\\cuaco\\AppData\\Local\\Temp\\ipykernel_24324\\3813840863.py:17: FutureWarning:\n",
      "\n",
      "The frame.append method is deprecated and will be removed from pandas in a future version. Use pandas.concat instead.\n",
      "\n",
      "C:\\Users\\cuaco\\AppData\\Local\\Temp\\ipykernel_24324\\3813840863.py:17: FutureWarning:\n",
      "\n",
      "The frame.append method is deprecated and will be removed from pandas in a future version. Use pandas.concat instead.\n",
      "\n",
      "C:\\Users\\cuaco\\AppData\\Local\\Temp\\ipykernel_24324\\3813840863.py:17: FutureWarning:\n",
      "\n",
      "The frame.append method is deprecated and will be removed from pandas in a future version. Use pandas.concat instead.\n",
      "\n",
      "C:\\Users\\cuaco\\AppData\\Local\\Temp\\ipykernel_24324\\3813840863.py:15: FutureWarning:\n",
      "\n",
      "The frame.append method is deprecated and will be removed from pandas in a future version. Use pandas.concat instead.\n",
      "\n",
      "C:\\Users\\cuaco\\AppData\\Local\\Temp\\ipykernel_24324\\3813840863.py:15: FutureWarning:\n",
      "\n",
      "The frame.append method is deprecated and will be removed from pandas in a future version. Use pandas.concat instead.\n",
      "\n",
      "C:\\Users\\cuaco\\AppData\\Local\\Temp\\ipykernel_24324\\3813840863.py:17: FutureWarning:\n",
      "\n",
      "The frame.append method is deprecated and will be removed from pandas in a future version. Use pandas.concat instead.\n",
      "\n",
      "C:\\Users\\cuaco\\AppData\\Local\\Temp\\ipykernel_24324\\3813840863.py:17: FutureWarning:\n",
      "\n",
      "The frame.append method is deprecated and will be removed from pandas in a future version. Use pandas.concat instead.\n",
      "\n",
      "C:\\Users\\cuaco\\AppData\\Local\\Temp\\ipykernel_24324\\3813840863.py:17: FutureWarning:\n",
      "\n",
      "The frame.append method is deprecated and will be removed from pandas in a future version. Use pandas.concat instead.\n",
      "\n",
      "C:\\Users\\cuaco\\AppData\\Local\\Temp\\ipykernel_24324\\3813840863.py:17: FutureWarning:\n",
      "\n",
      "The frame.append method is deprecated and will be removed from pandas in a future version. Use pandas.concat instead.\n",
      "\n",
      "C:\\Users\\cuaco\\AppData\\Local\\Temp\\ipykernel_24324\\3813840863.py:17: FutureWarning:\n",
      "\n",
      "The frame.append method is deprecated and will be removed from pandas in a future version. Use pandas.concat instead.\n",
      "\n",
      "C:\\Users\\cuaco\\AppData\\Local\\Temp\\ipykernel_24324\\3813840863.py:17: FutureWarning:\n",
      "\n",
      "The frame.append method is deprecated and will be removed from pandas in a future version. Use pandas.concat instead.\n",
      "\n",
      "C:\\Users\\cuaco\\AppData\\Local\\Temp\\ipykernel_24324\\3813840863.py:15: FutureWarning:\n",
      "\n",
      "The frame.append method is deprecated and will be removed from pandas in a future version. Use pandas.concat instead.\n",
      "\n",
      "C:\\Users\\cuaco\\AppData\\Local\\Temp\\ipykernel_24324\\3813840863.py:15: FutureWarning:\n",
      "\n",
      "The frame.append method is deprecated and will be removed from pandas in a future version. Use pandas.concat instead.\n",
      "\n",
      "C:\\Users\\cuaco\\AppData\\Local\\Temp\\ipykernel_24324\\3813840863.py:17: FutureWarning:\n",
      "\n",
      "The frame.append method is deprecated and will be removed from pandas in a future version. Use pandas.concat instead.\n",
      "\n",
      "C:\\Users\\cuaco\\AppData\\Local\\Temp\\ipykernel_24324\\3813840863.py:17: FutureWarning:\n",
      "\n",
      "The frame.append method is deprecated and will be removed from pandas in a future version. Use pandas.concat instead.\n",
      "\n",
      "C:\\Users\\cuaco\\AppData\\Local\\Temp\\ipykernel_24324\\3813840863.py:17: FutureWarning:\n",
      "\n",
      "The frame.append method is deprecated and will be removed from pandas in a future version. Use pandas.concat instead.\n",
      "\n",
      "C:\\Users\\cuaco\\AppData\\Local\\Temp\\ipykernel_24324\\3813840863.py:17: FutureWarning:\n",
      "\n",
      "The frame.append method is deprecated and will be removed from pandas in a future version. Use pandas.concat instead.\n",
      "\n",
      "C:\\Users\\cuaco\\AppData\\Local\\Temp\\ipykernel_24324\\3813840863.py:15: FutureWarning:\n",
      "\n",
      "The frame.append method is deprecated and will be removed from pandas in a future version. Use pandas.concat instead.\n",
      "\n",
      "C:\\Users\\cuaco\\AppData\\Local\\Temp\\ipykernel_24324\\3813840863.py:15: FutureWarning:\n",
      "\n",
      "The frame.append method is deprecated and will be removed from pandas in a future version. Use pandas.concat instead.\n",
      "\n",
      "C:\\Users\\cuaco\\AppData\\Local\\Temp\\ipykernel_24324\\3813840863.py:17: FutureWarning:\n",
      "\n",
      "The frame.append method is deprecated and will be removed from pandas in a future version. Use pandas.concat instead.\n",
      "\n",
      "C:\\Users\\cuaco\\AppData\\Local\\Temp\\ipykernel_24324\\3813840863.py:17: FutureWarning:\n",
      "\n",
      "The frame.append method is deprecated and will be removed from pandas in a future version. Use pandas.concat instead.\n",
      "\n",
      "C:\\Users\\cuaco\\AppData\\Local\\Temp\\ipykernel_24324\\3813840863.py:17: FutureWarning:\n",
      "\n",
      "The frame.append method is deprecated and will be removed from pandas in a future version. Use pandas.concat instead.\n",
      "\n",
      "C:\\Users\\cuaco\\AppData\\Local\\Temp\\ipykernel_24324\\3813840863.py:17: FutureWarning:\n",
      "\n",
      "The frame.append method is deprecated and will be removed from pandas in a future version. Use pandas.concat instead.\n",
      "\n",
      "C:\\Users\\cuaco\\AppData\\Local\\Temp\\ipykernel_24324\\3813840863.py:17: FutureWarning:\n",
      "\n",
      "The frame.append method is deprecated and will be removed from pandas in a future version. Use pandas.concat instead.\n",
      "\n",
      "C:\\Users\\cuaco\\AppData\\Local\\Temp\\ipykernel_24324\\3813840863.py:17: FutureWarning:\n",
      "\n",
      "The frame.append method is deprecated and will be removed from pandas in a future version. Use pandas.concat instead.\n",
      "\n",
      "C:\\Users\\cuaco\\AppData\\Local\\Temp\\ipykernel_24324\\3813840863.py:15: FutureWarning:\n",
      "\n",
      "The frame.append method is deprecated and will be removed from pandas in a future version. Use pandas.concat instead.\n",
      "\n",
      "C:\\Users\\cuaco\\AppData\\Local\\Temp\\ipykernel_24324\\3813840863.py:15: FutureWarning:\n",
      "\n",
      "The frame.append method is deprecated and will be removed from pandas in a future version. Use pandas.concat instead.\n",
      "\n",
      "C:\\Users\\cuaco\\AppData\\Local\\Temp\\ipykernel_24324\\3813840863.py:17: FutureWarning:\n",
      "\n",
      "The frame.append method is deprecated and will be removed from pandas in a future version. Use pandas.concat instead.\n",
      "\n",
      "C:\\Users\\cuaco\\AppData\\Local\\Temp\\ipykernel_24324\\3813840863.py:15: FutureWarning:\n",
      "\n",
      "The frame.append method is deprecated and will be removed from pandas in a future version. Use pandas.concat instead.\n",
      "\n",
      "C:\\Users\\cuaco\\AppData\\Local\\Temp\\ipykernel_24324\\3813840863.py:15: FutureWarning:\n",
      "\n",
      "The frame.append method is deprecated and will be removed from pandas in a future version. Use pandas.concat instead.\n",
      "\n",
      "C:\\Users\\cuaco\\AppData\\Local\\Temp\\ipykernel_24324\\3813840863.py:17: FutureWarning:\n",
      "\n",
      "The frame.append method is deprecated and will be removed from pandas in a future version. Use pandas.concat instead.\n",
      "\n",
      "C:\\Users\\cuaco\\AppData\\Local\\Temp\\ipykernel_24324\\3813840863.py:17: FutureWarning:\n",
      "\n",
      "The frame.append method is deprecated and will be removed from pandas in a future version. Use pandas.concat instead.\n",
      "\n",
      "C:\\Users\\cuaco\\AppData\\Local\\Temp\\ipykernel_24324\\3813840863.py:17: FutureWarning:\n",
      "\n",
      "The frame.append method is deprecated and will be removed from pandas in a future version. Use pandas.concat instead.\n",
      "\n",
      "C:\\Users\\cuaco\\AppData\\Local\\Temp\\ipykernel_24324\\3813840863.py:17: FutureWarning:\n",
      "\n",
      "The frame.append method is deprecated and will be removed from pandas in a future version. Use pandas.concat instead.\n",
      "\n",
      "C:\\Users\\cuaco\\AppData\\Local\\Temp\\ipykernel_24324\\3813840863.py:17: FutureWarning:\n",
      "\n",
      "The frame.append method is deprecated and will be removed from pandas in a future version. Use pandas.concat instead.\n",
      "\n",
      "C:\\Users\\cuaco\\AppData\\Local\\Temp\\ipykernel_24324\\3813840863.py:15: FutureWarning:\n",
      "\n",
      "The frame.append method is deprecated and will be removed from pandas in a future version. Use pandas.concat instead.\n",
      "\n"
     ]
    },
    {
     "data": {
      "application/vnd.plotly.v1+json": {
       "config": {
        "plotlyServerURL": "https://plot.ly"
       },
       "data": [
        {
         "geo": "geo",
         "hovertemplate": "<b>%{hovertext}</b><br><br>subtrip=0<br>Latitude=%{lat}<br>Longitude=%{lon}<extra></extra>",
         "hovertext": [
          "Boston",
          "Haleakalā",
          "Boston"
         ],
         "lat": [
          42.36325261897069,
          20.72,
          42.36325261897069
         ],
         "legendgroup": "0",
         "line": {
          "color": "#636efa",
          "dash": "solid"
         },
         "lon": [
          -71.0857617716905,
          -156.17,
          -71.0857617716905
         ],
         "marker": {
          "symbol": "circle"
         },
         "mode": "lines+markers",
         "name": "0",
         "showlegend": true,
         "type": "scattergeo"
        },
        {
         "geo": "geo",
         "hovertemplate": "<b>%{hovertext}</b><br><br>subtrip=1<br>Latitude=%{lat}<br>Longitude=%{lon}<extra></extra>",
         "hovertext": [
          "Boston",
          "Hawaiʻi Volcanoes",
          "Boston"
         ],
         "lat": [
          42.36325261897069,
          19.38,
          42.36325261897069
         ],
         "legendgroup": "1",
         "line": {
          "color": "#EF553B",
          "dash": "solid"
         },
         "lon": [
          -71.0857617716905,
          -155.2,
          -71.0857617716905
         ],
         "marker": {
          "symbol": "circle"
         },
         "mode": "lines+markers",
         "name": "1",
         "showlegend": true,
         "type": "scattergeo"
        },
        {
         "geo": "geo",
         "hovertemplate": "<b>%{hovertext}</b><br><br>subtrip=2<br>Latitude=%{lat}<br>Longitude=%{lon}<extra></extra>",
         "hovertext": [
          "Boston",
          "National Park of American Samoa",
          "Boston"
         ],
         "lat": [
          42.36325261897069,
          -14.25,
          42.36325261897069
         ],
         "legendgroup": "2",
         "line": {
          "color": "#00cc96",
          "dash": "solid"
         },
         "lon": [
          -71.0857617716905,
          -170.68,
          -71.0857617716905
         ],
         "marker": {
          "symbol": "circle"
         },
         "mode": "lines+markers",
         "name": "2",
         "showlegend": true,
         "type": "scattergeo"
        },
        {
         "geo": "geo",
         "hovertemplate": "<b>%{hovertext}</b><br><br>subtrip=3<br>Latitude=%{lat}<br>Longitude=%{lon}<extra></extra>",
         "hovertext": [
          "Boston",
          "Virgin Islands",
          "Boston"
         ],
         "lat": [
          42.36325261897069,
          18.33,
          42.36325261897069
         ],
         "legendgroup": "3",
         "line": {
          "color": "#ab63fa",
          "dash": "solid"
         },
         "lon": [
          -71.0857617716905,
          -64.73,
          -71.0857617716905
         ],
         "marker": {
          "symbol": "circle"
         },
         "mode": "lines+markers",
         "name": "3",
         "showlegend": true,
         "type": "scattergeo"
        },
        {
         "geo": "geo",
         "hovertemplate": "<b>%{hovertext}</b><br><br>subtrip=4<br>Latitude=%{lat}<br>Longitude=%{lon}<extra></extra>",
         "hovertext": [
          "Boston",
          "Cuyahoga Valley",
          "Mammoth Cave",
          "Great Smoky Mountains",
          "Hot Springs",
          "Boston"
         ],
         "lat": [
          42.36325261897069,
          41.24,
          37.18,
          35.68,
          34.51,
          42.36325261897069
         ],
         "legendgroup": "4",
         "line": {
          "color": "#FFA15A",
          "dash": "solid"
         },
         "lon": [
          -71.0857617716905,
          -81.55,
          -86.1,
          -83.53,
          -93.05,
          -71.0857617716905
         ],
         "marker": {
          "symbol": "circle"
         },
         "mode": "lines+markers",
         "name": "4",
         "showlegend": true,
         "type": "scattergeo"
        },
        {
         "geo": "geo",
         "hovertemplate": "<b>%{hovertext}</b><br><br>subtrip=5<br>Latitude=%{lat}<br>Longitude=%{lon}<extra></extra>",
         "hovertext": [
          "Boston",
          "Saguaro",
          "Petrified Forest",
          "Mesa Verde",
          "Great Sand Dunes",
          "White Sands National Park",
          "Boston"
         ],
         "lat": [
          42.36325261897069,
          32.1809157461041,
          35.07,
          37.34,
          37.69342676208285,
          32.77915792075539,
          42.36325261897069
         ],
         "legendgroup": "5",
         "line": {
          "color": "#19d3f3",
          "dash": "solid"
         },
         "lon": [
          -71.0857617716905,
          -110.73793391600124,
          -109.78,
          -108.41,
          -105.54809008345389,
          -106.17231252027464,
          -71.0857617716905
         ],
         "marker": {
          "symbol": "circle"
         },
         "mode": "lines+markers",
         "name": "5",
         "showlegend": true,
         "type": "scattergeo"
        },
        {
         "geo": "geo",
         "hovertemplate": "<b>%{hovertext}</b><br><br>subtrip=7<br>Latitude=%{lat}<br>Longitude=%{lon}<extra></extra>",
         "hovertext": [
          "Boston",
          "Indiana Dunes",
          "Gateway Arch",
          "Guadalupe Mountains",
          "Carlsbad Caverns",
          "Big Bend",
          "Boston"
         ],
         "lat": [
          42.36325261897069,
          41.6533,
          38.63,
          31.92,
          32.17,
          29.25,
          42.36325261897069
         ],
         "legendgroup": "7",
         "line": {
          "color": "#FF6692",
          "dash": "solid"
         },
         "lon": [
          -71.0857617716905,
          -87.0524,
          -90.19,
          -104.87,
          -104.44,
          -103.25,
          -71.0857617716905
         ],
         "marker": {
          "symbol": "circle"
         },
         "mode": "lines+markers",
         "name": "7",
         "showlegend": true,
         "type": "scattergeo"
        },
        {
         "geo": "geo",
         "hovertemplate": "<b>%{hovertext}</b><br><br>subtrip=9<br>Latitude=%{lat}<br>Longitude=%{lon}<extra></extra>",
         "hovertext": [
          "Boston",
          "Glacier",
          "Olympic",
          "Mount Rainier",
          "North Cascades",
          "Bryce Canyon",
          "Boston"
         ],
         "lat": [
          42.36325261897069,
          48.510559081694666,
          47.97,
          46.7853380976398,
          48.7,
          37.57,
          42.36325261897069
         ],
         "legendgroup": "9",
         "line": {
          "color": "#B6E880",
          "dash": "solid"
         },
         "lon": [
          -71.0857617716905,
          -113.30783353688628,
          -123.5,
          -121.7352224818534,
          -121.2,
          -112.18,
          -71.0857617716905
         ],
         "marker": {
          "symbol": "circle"
         },
         "mode": "lines+markers",
         "name": "9",
         "showlegend": true,
         "type": "scattergeo"
        },
        {
         "geo": "geo",
         "hovertemplate": "<b>%{hovertext}</b><br><br>subtrip=10<br>Latitude=%{lat}<br>Longitude=%{lon}<extra></extra>",
         "hovertext": [
          "Boston",
          "Grand Canyon",
          "Arches",
          "Black Canyon of the Gunnison",
          "Rocky Mountain",
          "Grand Teton",
          "Boston"
         ],
         "lat": [
          42.36325261897069,
          36.06,
          38.68,
          38.57,
          40.21960210402053,
          43.73,
          42.36325261897069
         ],
         "legendgroup": "10",
         "line": {
          "color": "#FF97FF",
          "dash": "solid"
         },
         "lon": [
          -71.0857617716905,
          -112.14,
          -109.57,
          -107.72,
          -105.5343885966378,
          -110.8,
          -71.0857617716905
         ],
         "marker": {
          "symbol": "circle"
         },
         "mode": "lines+markers",
         "name": "10",
         "showlegend": true,
         "type": "scattergeo"
        },
        {
         "geo": "geo",
         "hovertemplate": "<b>%{hovertext}</b><br><br>subtrip=12<br>Latitude=%{lat}<br>Longitude=%{lon}<extra></extra>",
         "hovertext": [
          "Boston",
          "Isle Royale",
          "Voyageurs",
          "Theodore Roosevelt",
          "Badlands",
          "Wind Cave",
          "Yellowstone",
          "Boston"
         ],
         "lat": [
          42.36325261897069,
          47.47,
          48.4,
          46.97,
          43.75,
          43.57,
          44.48895807918335,
          42.36325261897069
         ],
         "legendgroup": "12",
         "line": {
          "color": "#FECB52",
          "dash": "solid"
         },
         "lon": [
          -71.0857617716905,
          -87.89,
          -92.84,
          -103.45,
          -102.5,
          -103.48,
          -110.00263203959054,
          -71.0857617716905
         ],
         "marker": {
          "symbol": "circle"
         },
         "mode": "lines+markers",
         "name": "12",
         "showlegend": true,
         "type": "scattergeo"
        },
        {
         "geo": "geo",
         "hovertemplate": "<b>%{hovertext}</b><br><br>subtrip=13<br>Latitude=%{lat}<br>Longitude=%{lon}<extra></extra>",
         "hovertext": [
          "Boston",
          "Gates of the Arctic",
          "Kobuk Valley",
          "Boston"
         ],
         "lat": [
          42.36325261897069,
          67.86,
          67.25884538094942,
          42.36325261897069
         ],
         "legendgroup": "13",
         "line": {
          "color": "#636efa",
          "dash": "solid"
         },
         "lon": [
          -71.0857617716905,
          -149.82,
          -150.18101916368872,
          -71.0857617716905
         ],
         "marker": {
          "symbol": "circle"
         },
         "mode": "lines+markers",
         "name": "13",
         "showlegend": true,
         "type": "scattergeo"
        },
        {
         "geo": "geo",
         "hovertemplate": "<b>%{hovertext}</b><br><br>subtrip=14<br>Latitude=%{lat}<br>Longitude=%{lon}<extra></extra>",
         "hovertext": [
          "Boston",
          "Lassen Volcanic",
          "Sequoia",
          "Kings Canyon",
          "Yosemite",
          "Boston"
         ],
         "lat": [
          42.36325261897069,
          40.49,
          36.43,
          36.8,
          37.83,
          42.36325261897069
         ],
         "legendgroup": "14",
         "line": {
          "color": "#EF553B",
          "dash": "solid"
         },
         "lon": [
          -71.0857617716905,
          -121.51,
          -118.68,
          -118.55,
          -119.5,
          -71.0857617716905
         ],
         "marker": {
          "symbol": "circle"
         },
         "mode": "lines+markers",
         "name": "14",
         "showlegend": true,
         "type": "scattergeo"
        },
        {
         "geo": "geo",
         "hovertemplate": "<b>%{hovertext}</b><br><br>subtrip=15<br>Latitude=%{lat}<br>Longitude=%{lon}<extra></extra>",
         "hovertext": [
          "Boston",
          "Katmai",
          "Kenai Fjords",
          "Lake Clark",
          "Denali",
          "Wrangell–St. Elias",
          "Glacier Bay",
          "Boston"
         ],
         "lat": [
          42.36325261897069,
          59.791854098425695,
          59.92,
          61.22714570601087,
          63.73,
          62.71,
          59.26083557990791,
          42.36325261897069
         ],
         "legendgroup": "15",
         "line": {
          "color": "#00cc96",
          "dash": "solid"
         },
         "lon": [
          -71.0857617716905,
          -151.5096002142428,
          -149.65,
          -150.0144746056985,
          -148.89,
          -143.98,
          -135.52717573861582,
          -71.0857617716905
         ],
         "marker": {
          "symbol": "circle"
         },
         "mode": "lines+markers",
         "name": "15",
         "showlegend": true,
         "type": "scattergeo"
        },
        {
         "geo": "geo",
         "hovertemplate": "<b>%{hovertext}</b><br><br>subtrip=16<br>Latitude=%{lat}<br>Longitude=%{lon}<extra></extra>",
         "hovertext": [
          "Boston",
          "Crater Lake",
          "Channel Islands",
          "Pinnacles",
          "Redwood",
          "Boston"
         ],
         "lat": [
          42.36325261897069,
          42.94,
          34.41,
          36.48,
          41.3,
          42.36325261897069
         ],
         "legendgroup": "16",
         "line": {
          "color": "#ab63fa",
          "dash": "solid"
         },
         "lon": [
          -71.0857617716905,
          -122.1,
          -119.88,
          -121.16,
          -124,
          -71.0857617716905
         ],
         "marker": {
          "symbol": "circle"
         },
         "mode": "lines+markers",
         "name": "16",
         "showlegend": true,
         "type": "scattergeo"
        },
        {
         "geo": "geo",
         "hovertemplate": "<b>%{hovertext}</b><br><br>subtrip=17<br>Latitude=%{lat}<br>Longitude=%{lon}<extra></extra>",
         "hovertext": [
          "Boston",
          "Canyonlands",
          "Capitol Reef",
          "Great Basin",
          "Zion",
          "Death Valley",
          "Joshua Tree",
          "Boston"
         ],
         "lat": [
          42.36325261897069,
          38.2,
          38.2,
          38.98,
          37.3,
          36.24,
          33.79,
          42.36325261897069
         ],
         "legendgroup": "17",
         "line": {
          "color": "#FFA15A",
          "dash": "solid"
         },
         "lon": [
          -71.0857617716905,
          -109.93,
          -111.17,
          -114.3,
          -113.05,
          -116.82,
          -115.9,
          -71.0857617716905
         ],
         "marker": {
          "symbol": "circle"
         },
         "mode": "lines+markers",
         "name": "17",
         "showlegend": true,
         "type": "scattergeo"
        },
        {
         "geo": "geo",
         "hovertemplate": "<b>%{hovertext}</b><br><br>subtrip=18<br>Latitude=%{lat}<br>Longitude=%{lon}<extra></extra>",
         "hovertext": [
          "Boston",
          "Acadia",
          "Boston"
         ],
         "lat": [
          42.36325261897069,
          44.35,
          42.36325261897069
         ],
         "legendgroup": "18",
         "line": {
          "color": "#19d3f3",
          "dash": "solid"
         },
         "lon": [
          -71.0857617716905,
          -68.21,
          -71.0857617716905
         ],
         "marker": {
          "symbol": "circle"
         },
         "mode": "lines+markers",
         "name": "18",
         "showlegend": true,
         "type": "scattergeo"
        },
        {
         "geo": "geo",
         "hovertemplate": "<b>%{hovertext}</b><br><br>subtrip=19<br>Latitude=%{lat}<br>Longitude=%{lon}<extra></extra>",
         "hovertext": [
          "Boston",
          "Shenandoah",
          "Congaree",
          "Everglades",
          "Biscayne",
          "Dry Tortugas",
          "Boston"
         ],
         "lat": [
          42.36325261897069,
          38.53,
          33.78,
          25.221036121576688,
          25.47,
          24.546874315824248,
          42.36325261897069
         ],
         "legendgroup": "19",
         "line": {
          "color": "#FF6692",
          "dash": "solid"
         },
         "lon": [
          -71.0857617716905,
          -78.35,
          -80.78,
          -80.85001594082607,
          -80.33,
          -81.80977195176163,
          -71.0857617716905
         ],
         "marker": {
          "symbol": "circle"
         },
         "mode": "lines+markers",
         "name": "19",
         "showlegend": true,
         "type": "scattergeo"
        }
       ],
       "layout": {
        "geo": {
         "center": {},
         "domain": {
          "x": [
           0,
           1
          ],
          "y": [
           0,
           1
          ]
         }
        },
        "legend": {
         "title": {
          "text": "subtrip"
         },
         "tracegroupgap": 0
        },
        "margin": {
         "t": 60
        },
        "template": {
         "data": {
          "bar": [
           {
            "error_x": {
             "color": "#2a3f5f"
            },
            "error_y": {
             "color": "#2a3f5f"
            },
            "marker": {
             "line": {
              "color": "#E5ECF6",
              "width": 0.5
             },
             "pattern": {
              "fillmode": "overlay",
              "size": 10,
              "solidity": 0.2
             }
            },
            "type": "bar"
           }
          ],
          "barpolar": [
           {
            "marker": {
             "line": {
              "color": "#E5ECF6",
              "width": 0.5
             },
             "pattern": {
              "fillmode": "overlay",
              "size": 10,
              "solidity": 0.2
             }
            },
            "type": "barpolar"
           }
          ],
          "carpet": [
           {
            "aaxis": {
             "endlinecolor": "#2a3f5f",
             "gridcolor": "white",
             "linecolor": "white",
             "minorgridcolor": "white",
             "startlinecolor": "#2a3f5f"
            },
            "baxis": {
             "endlinecolor": "#2a3f5f",
             "gridcolor": "white",
             "linecolor": "white",
             "minorgridcolor": "white",
             "startlinecolor": "#2a3f5f"
            },
            "type": "carpet"
           }
          ],
          "choropleth": [
           {
            "colorbar": {
             "outlinewidth": 0,
             "ticks": ""
            },
            "type": "choropleth"
           }
          ],
          "contour": [
           {
            "colorbar": {
             "outlinewidth": 0,
             "ticks": ""
            },
            "colorscale": [
             [
              0,
              "#0d0887"
             ],
             [
              0.1111111111111111,
              "#46039f"
             ],
             [
              0.2222222222222222,
              "#7201a8"
             ],
             [
              0.3333333333333333,
              "#9c179e"
             ],
             [
              0.4444444444444444,
              "#bd3786"
             ],
             [
              0.5555555555555556,
              "#d8576b"
             ],
             [
              0.6666666666666666,
              "#ed7953"
             ],
             [
              0.7777777777777778,
              "#fb9f3a"
             ],
             [
              0.8888888888888888,
              "#fdca26"
             ],
             [
              1,
              "#f0f921"
             ]
            ],
            "type": "contour"
           }
          ],
          "contourcarpet": [
           {
            "colorbar": {
             "outlinewidth": 0,
             "ticks": ""
            },
            "type": "contourcarpet"
           }
          ],
          "heatmap": [
           {
            "colorbar": {
             "outlinewidth": 0,
             "ticks": ""
            },
            "colorscale": [
             [
              0,
              "#0d0887"
             ],
             [
              0.1111111111111111,
              "#46039f"
             ],
             [
              0.2222222222222222,
              "#7201a8"
             ],
             [
              0.3333333333333333,
              "#9c179e"
             ],
             [
              0.4444444444444444,
              "#bd3786"
             ],
             [
              0.5555555555555556,
              "#d8576b"
             ],
             [
              0.6666666666666666,
              "#ed7953"
             ],
             [
              0.7777777777777778,
              "#fb9f3a"
             ],
             [
              0.8888888888888888,
              "#fdca26"
             ],
             [
              1,
              "#f0f921"
             ]
            ],
            "type": "heatmap"
           }
          ],
          "heatmapgl": [
           {
            "colorbar": {
             "outlinewidth": 0,
             "ticks": ""
            },
            "colorscale": [
             [
              0,
              "#0d0887"
             ],
             [
              0.1111111111111111,
              "#46039f"
             ],
             [
              0.2222222222222222,
              "#7201a8"
             ],
             [
              0.3333333333333333,
              "#9c179e"
             ],
             [
              0.4444444444444444,
              "#bd3786"
             ],
             [
              0.5555555555555556,
              "#d8576b"
             ],
             [
              0.6666666666666666,
              "#ed7953"
             ],
             [
              0.7777777777777778,
              "#fb9f3a"
             ],
             [
              0.8888888888888888,
              "#fdca26"
             ],
             [
              1,
              "#f0f921"
             ]
            ],
            "type": "heatmapgl"
           }
          ],
          "histogram": [
           {
            "marker": {
             "pattern": {
              "fillmode": "overlay",
              "size": 10,
              "solidity": 0.2
             }
            },
            "type": "histogram"
           }
          ],
          "histogram2d": [
           {
            "colorbar": {
             "outlinewidth": 0,
             "ticks": ""
            },
            "colorscale": [
             [
              0,
              "#0d0887"
             ],
             [
              0.1111111111111111,
              "#46039f"
             ],
             [
              0.2222222222222222,
              "#7201a8"
             ],
             [
              0.3333333333333333,
              "#9c179e"
             ],
             [
              0.4444444444444444,
              "#bd3786"
             ],
             [
              0.5555555555555556,
              "#d8576b"
             ],
             [
              0.6666666666666666,
              "#ed7953"
             ],
             [
              0.7777777777777778,
              "#fb9f3a"
             ],
             [
              0.8888888888888888,
              "#fdca26"
             ],
             [
              1,
              "#f0f921"
             ]
            ],
            "type": "histogram2d"
           }
          ],
          "histogram2dcontour": [
           {
            "colorbar": {
             "outlinewidth": 0,
             "ticks": ""
            },
            "colorscale": [
             [
              0,
              "#0d0887"
             ],
             [
              0.1111111111111111,
              "#46039f"
             ],
             [
              0.2222222222222222,
              "#7201a8"
             ],
             [
              0.3333333333333333,
              "#9c179e"
             ],
             [
              0.4444444444444444,
              "#bd3786"
             ],
             [
              0.5555555555555556,
              "#d8576b"
             ],
             [
              0.6666666666666666,
              "#ed7953"
             ],
             [
              0.7777777777777778,
              "#fb9f3a"
             ],
             [
              0.8888888888888888,
              "#fdca26"
             ],
             [
              1,
              "#f0f921"
             ]
            ],
            "type": "histogram2dcontour"
           }
          ],
          "mesh3d": [
           {
            "colorbar": {
             "outlinewidth": 0,
             "ticks": ""
            },
            "type": "mesh3d"
           }
          ],
          "parcoords": [
           {
            "line": {
             "colorbar": {
              "outlinewidth": 0,
              "ticks": ""
             }
            },
            "type": "parcoords"
           }
          ],
          "pie": [
           {
            "automargin": true,
            "type": "pie"
           }
          ],
          "scatter": [
           {
            "fillpattern": {
             "fillmode": "overlay",
             "size": 10,
             "solidity": 0.2
            },
            "type": "scatter"
           }
          ],
          "scatter3d": [
           {
            "line": {
             "colorbar": {
              "outlinewidth": 0,
              "ticks": ""
             }
            },
            "marker": {
             "colorbar": {
              "outlinewidth": 0,
              "ticks": ""
             }
            },
            "type": "scatter3d"
           }
          ],
          "scattercarpet": [
           {
            "marker": {
             "colorbar": {
              "outlinewidth": 0,
              "ticks": ""
             }
            },
            "type": "scattercarpet"
           }
          ],
          "scattergeo": [
           {
            "marker": {
             "colorbar": {
              "outlinewidth": 0,
              "ticks": ""
             }
            },
            "type": "scattergeo"
           }
          ],
          "scattergl": [
           {
            "marker": {
             "colorbar": {
              "outlinewidth": 0,
              "ticks": ""
             }
            },
            "type": "scattergl"
           }
          ],
          "scattermapbox": [
           {
            "marker": {
             "colorbar": {
              "outlinewidth": 0,
              "ticks": ""
             }
            },
            "type": "scattermapbox"
           }
          ],
          "scatterpolar": [
           {
            "marker": {
             "colorbar": {
              "outlinewidth": 0,
              "ticks": ""
             }
            },
            "type": "scatterpolar"
           }
          ],
          "scatterpolargl": [
           {
            "marker": {
             "colorbar": {
              "outlinewidth": 0,
              "ticks": ""
             }
            },
            "type": "scatterpolargl"
           }
          ],
          "scatterternary": [
           {
            "marker": {
             "colorbar": {
              "outlinewidth": 0,
              "ticks": ""
             }
            },
            "type": "scatterternary"
           }
          ],
          "surface": [
           {
            "colorbar": {
             "outlinewidth": 0,
             "ticks": ""
            },
            "colorscale": [
             [
              0,
              "#0d0887"
             ],
             [
              0.1111111111111111,
              "#46039f"
             ],
             [
              0.2222222222222222,
              "#7201a8"
             ],
             [
              0.3333333333333333,
              "#9c179e"
             ],
             [
              0.4444444444444444,
              "#bd3786"
             ],
             [
              0.5555555555555556,
              "#d8576b"
             ],
             [
              0.6666666666666666,
              "#ed7953"
             ],
             [
              0.7777777777777778,
              "#fb9f3a"
             ],
             [
              0.8888888888888888,
              "#fdca26"
             ],
             [
              1,
              "#f0f921"
             ]
            ],
            "type": "surface"
           }
          ],
          "table": [
           {
            "cells": {
             "fill": {
              "color": "#EBF0F8"
             },
             "line": {
              "color": "white"
             }
            },
            "header": {
             "fill": {
              "color": "#C8D4E3"
             },
             "line": {
              "color": "white"
             }
            },
            "type": "table"
           }
          ]
         },
         "layout": {
          "annotationdefaults": {
           "arrowcolor": "#2a3f5f",
           "arrowhead": 0,
           "arrowwidth": 1
          },
          "autotypenumbers": "strict",
          "coloraxis": {
           "colorbar": {
            "outlinewidth": 0,
            "ticks": ""
           }
          },
          "colorscale": {
           "diverging": [
            [
             0,
             "#8e0152"
            ],
            [
             0.1,
             "#c51b7d"
            ],
            [
             0.2,
             "#de77ae"
            ],
            [
             0.3,
             "#f1b6da"
            ],
            [
             0.4,
             "#fde0ef"
            ],
            [
             0.5,
             "#f7f7f7"
            ],
            [
             0.6,
             "#e6f5d0"
            ],
            [
             0.7,
             "#b8e186"
            ],
            [
             0.8,
             "#7fbc41"
            ],
            [
             0.9,
             "#4d9221"
            ],
            [
             1,
             "#276419"
            ]
           ],
           "sequential": [
            [
             0,
             "#0d0887"
            ],
            [
             0.1111111111111111,
             "#46039f"
            ],
            [
             0.2222222222222222,
             "#7201a8"
            ],
            [
             0.3333333333333333,
             "#9c179e"
            ],
            [
             0.4444444444444444,
             "#bd3786"
            ],
            [
             0.5555555555555556,
             "#d8576b"
            ],
            [
             0.6666666666666666,
             "#ed7953"
            ],
            [
             0.7777777777777778,
             "#fb9f3a"
            ],
            [
             0.8888888888888888,
             "#fdca26"
            ],
            [
             1,
             "#f0f921"
            ]
           ],
           "sequentialminus": [
            [
             0,
             "#0d0887"
            ],
            [
             0.1111111111111111,
             "#46039f"
            ],
            [
             0.2222222222222222,
             "#7201a8"
            ],
            [
             0.3333333333333333,
             "#9c179e"
            ],
            [
             0.4444444444444444,
             "#bd3786"
            ],
            [
             0.5555555555555556,
             "#d8576b"
            ],
            [
             0.6666666666666666,
             "#ed7953"
            ],
            [
             0.7777777777777778,
             "#fb9f3a"
            ],
            [
             0.8888888888888888,
             "#fdca26"
            ],
            [
             1,
             "#f0f921"
            ]
           ]
          },
          "colorway": [
           "#636efa",
           "#EF553B",
           "#00cc96",
           "#ab63fa",
           "#FFA15A",
           "#19d3f3",
           "#FF6692",
           "#B6E880",
           "#FF97FF",
           "#FECB52"
          ],
          "font": {
           "color": "#2a3f5f"
          },
          "geo": {
           "bgcolor": "white",
           "lakecolor": "white",
           "landcolor": "#E5ECF6",
           "showlakes": true,
           "showland": true,
           "subunitcolor": "white"
          },
          "hoverlabel": {
           "align": "left"
          },
          "hovermode": "closest",
          "mapbox": {
           "style": "light"
          },
          "paper_bgcolor": "white",
          "plot_bgcolor": "#E5ECF6",
          "polar": {
           "angularaxis": {
            "gridcolor": "white",
            "linecolor": "white",
            "ticks": ""
           },
           "bgcolor": "#E5ECF6",
           "radialaxis": {
            "gridcolor": "white",
            "linecolor": "white",
            "ticks": ""
           }
          },
          "scene": {
           "xaxis": {
            "backgroundcolor": "#E5ECF6",
            "gridcolor": "white",
            "gridwidth": 2,
            "linecolor": "white",
            "showbackground": true,
            "ticks": "",
            "zerolinecolor": "white"
           },
           "yaxis": {
            "backgroundcolor": "#E5ECF6",
            "gridcolor": "white",
            "gridwidth": 2,
            "linecolor": "white",
            "showbackground": true,
            "ticks": "",
            "zerolinecolor": "white"
           },
           "zaxis": {
            "backgroundcolor": "#E5ECF6",
            "gridcolor": "white",
            "gridwidth": 2,
            "linecolor": "white",
            "showbackground": true,
            "ticks": "",
            "zerolinecolor": "white"
           }
          },
          "shapedefaults": {
           "line": {
            "color": "#2a3f5f"
           }
          },
          "ternary": {
           "aaxis": {
            "gridcolor": "white",
            "linecolor": "white",
            "ticks": ""
           },
           "baxis": {
            "gridcolor": "white",
            "linecolor": "white",
            "ticks": ""
           },
           "bgcolor": "#E5ECF6",
           "caxis": {
            "gridcolor": "white",
            "linecolor": "white",
            "ticks": ""
           }
          },
          "title": {
           "x": 0.05
          },
          "xaxis": {
           "automargin": true,
           "gridcolor": "white",
           "linecolor": "white",
           "ticks": "",
           "title": {
            "standoff": 15
           },
           "zerolinecolor": "white",
           "zerolinewidth": 2
          },
          "yaxis": {
           "automargin": true,
           "gridcolor": "white",
           "linecolor": "white",
           "ticks": "",
           "title": {
            "standoff": 15
           },
           "zerolinecolor": "white",
           "zerolinewidth": 2
          }
         }
        }
       }
      },
      "text/html": [
       "<div>                            <div id=\"cc44ce73-1a3d-436d-88e8-c4c4e8fc9c9b\" class=\"plotly-graph-div\" style=\"height:525px; width:100%;\"></div>            <script type=\"text/javascript\">                require([\"plotly\"], function(Plotly) {                    window.PLOTLYENV=window.PLOTLYENV || {};                                    if (document.getElementById(\"cc44ce73-1a3d-436d-88e8-c4c4e8fc9c9b\")) {                    Plotly.newPlot(                        \"cc44ce73-1a3d-436d-88e8-c4c4e8fc9c9b\",                        [{\"geo\":\"geo\",\"hovertemplate\":\"<b>%{hovertext}</b><br><br>subtrip=0<br>Latitude=%{lat}<br>Longitude=%{lon}<extra></extra>\",\"hovertext\":[\"Boston\",\"Haleakal\\u0101\",\"Boston\"],\"lat\":[42.36325261897069,20.72,42.36325261897069],\"legendgroup\":\"0\",\"line\":{\"color\":\"#636efa\",\"dash\":\"solid\"},\"lon\":[-71.0857617716905,-156.17,-71.0857617716905],\"marker\":{\"symbol\":\"circle\"},\"mode\":\"lines+markers\",\"name\":\"0\",\"showlegend\":true,\"type\":\"scattergeo\"},{\"geo\":\"geo\",\"hovertemplate\":\"<b>%{hovertext}</b><br><br>subtrip=1<br>Latitude=%{lat}<br>Longitude=%{lon}<extra></extra>\",\"hovertext\":[\"Boston\",\"Hawai\\u02bbi Volcanoes\",\"Boston\"],\"lat\":[42.36325261897069,19.38,42.36325261897069],\"legendgroup\":\"1\",\"line\":{\"color\":\"#EF553B\",\"dash\":\"solid\"},\"lon\":[-71.0857617716905,-155.2,-71.0857617716905],\"marker\":{\"symbol\":\"circle\"},\"mode\":\"lines+markers\",\"name\":\"1\",\"showlegend\":true,\"type\":\"scattergeo\"},{\"geo\":\"geo\",\"hovertemplate\":\"<b>%{hovertext}</b><br><br>subtrip=2<br>Latitude=%{lat}<br>Longitude=%{lon}<extra></extra>\",\"hovertext\":[\"Boston\",\"National Park of American Samoa\",\"Boston\"],\"lat\":[42.36325261897069,-14.25,42.36325261897069],\"legendgroup\":\"2\",\"line\":{\"color\":\"#00cc96\",\"dash\":\"solid\"},\"lon\":[-71.0857617716905,-170.68,-71.0857617716905],\"marker\":{\"symbol\":\"circle\"},\"mode\":\"lines+markers\",\"name\":\"2\",\"showlegend\":true,\"type\":\"scattergeo\"},{\"geo\":\"geo\",\"hovertemplate\":\"<b>%{hovertext}</b><br><br>subtrip=3<br>Latitude=%{lat}<br>Longitude=%{lon}<extra></extra>\",\"hovertext\":[\"Boston\",\"Virgin Islands\",\"Boston\"],\"lat\":[42.36325261897069,18.33,42.36325261897069],\"legendgroup\":\"3\",\"line\":{\"color\":\"#ab63fa\",\"dash\":\"solid\"},\"lon\":[-71.0857617716905,-64.73,-71.0857617716905],\"marker\":{\"symbol\":\"circle\"},\"mode\":\"lines+markers\",\"name\":\"3\",\"showlegend\":true,\"type\":\"scattergeo\"},{\"geo\":\"geo\",\"hovertemplate\":\"<b>%{hovertext}</b><br><br>subtrip=4<br>Latitude=%{lat}<br>Longitude=%{lon}<extra></extra>\",\"hovertext\":[\"Boston\",\"Cuyahoga Valley\",\"Mammoth Cave\",\"Great Smoky Mountains\",\"Hot Springs\",\"Boston\"],\"lat\":[42.36325261897069,41.24,37.18,35.68,34.51,42.36325261897069],\"legendgroup\":\"4\",\"line\":{\"color\":\"#FFA15A\",\"dash\":\"solid\"},\"lon\":[-71.0857617716905,-81.55,-86.1,-83.53,-93.05,-71.0857617716905],\"marker\":{\"symbol\":\"circle\"},\"mode\":\"lines+markers\",\"name\":\"4\",\"showlegend\":true,\"type\":\"scattergeo\"},{\"geo\":\"geo\",\"hovertemplate\":\"<b>%{hovertext}</b><br><br>subtrip=5<br>Latitude=%{lat}<br>Longitude=%{lon}<extra></extra>\",\"hovertext\":[\"Boston\",\"Saguaro\",\"Petrified Forest\",\"Mesa Verde\",\"Great Sand Dunes\",\"White Sands National Park\",\"Boston\"],\"lat\":[42.36325261897069,32.1809157461041,35.07,37.34,37.69342676208285,32.77915792075539,42.36325261897069],\"legendgroup\":\"5\",\"line\":{\"color\":\"#19d3f3\",\"dash\":\"solid\"},\"lon\":[-71.0857617716905,-110.73793391600124,-109.78,-108.41,-105.54809008345389,-106.17231252027464,-71.0857617716905],\"marker\":{\"symbol\":\"circle\"},\"mode\":\"lines+markers\",\"name\":\"5\",\"showlegend\":true,\"type\":\"scattergeo\"},{\"geo\":\"geo\",\"hovertemplate\":\"<b>%{hovertext}</b><br><br>subtrip=7<br>Latitude=%{lat}<br>Longitude=%{lon}<extra></extra>\",\"hovertext\":[\"Boston\",\"Indiana Dunes\",\"Gateway Arch\",\"Guadalupe Mountains\",\"Carlsbad Caverns\",\"Big Bend\",\"Boston\"],\"lat\":[42.36325261897069,41.6533,38.63,31.92,32.17,29.25,42.36325261897069],\"legendgroup\":\"7\",\"line\":{\"color\":\"#FF6692\",\"dash\":\"solid\"},\"lon\":[-71.0857617716905,-87.0524,-90.19,-104.87,-104.44,-103.25,-71.0857617716905],\"marker\":{\"symbol\":\"circle\"},\"mode\":\"lines+markers\",\"name\":\"7\",\"showlegend\":true,\"type\":\"scattergeo\"},{\"geo\":\"geo\",\"hovertemplate\":\"<b>%{hovertext}</b><br><br>subtrip=9<br>Latitude=%{lat}<br>Longitude=%{lon}<extra></extra>\",\"hovertext\":[\"Boston\",\"Glacier\",\"Olympic\",\"Mount Rainier\",\"North Cascades\",\"Bryce Canyon\",\"Boston\"],\"lat\":[42.36325261897069,48.510559081694666,47.97,46.7853380976398,48.7,37.57,42.36325261897069],\"legendgroup\":\"9\",\"line\":{\"color\":\"#B6E880\",\"dash\":\"solid\"},\"lon\":[-71.0857617716905,-113.30783353688628,-123.5,-121.7352224818534,-121.2,-112.18,-71.0857617716905],\"marker\":{\"symbol\":\"circle\"},\"mode\":\"lines+markers\",\"name\":\"9\",\"showlegend\":true,\"type\":\"scattergeo\"},{\"geo\":\"geo\",\"hovertemplate\":\"<b>%{hovertext}</b><br><br>subtrip=10<br>Latitude=%{lat}<br>Longitude=%{lon}<extra></extra>\",\"hovertext\":[\"Boston\",\"Grand Canyon\",\"Arches\",\"Black Canyon of the Gunnison\",\"Rocky Mountain\",\"Grand Teton\",\"Boston\"],\"lat\":[42.36325261897069,36.06,38.68,38.57,40.21960210402053,43.73,42.36325261897069],\"legendgroup\":\"10\",\"line\":{\"color\":\"#FF97FF\",\"dash\":\"solid\"},\"lon\":[-71.0857617716905,-112.14,-109.57,-107.72,-105.5343885966378,-110.8,-71.0857617716905],\"marker\":{\"symbol\":\"circle\"},\"mode\":\"lines+markers\",\"name\":\"10\",\"showlegend\":true,\"type\":\"scattergeo\"},{\"geo\":\"geo\",\"hovertemplate\":\"<b>%{hovertext}</b><br><br>subtrip=12<br>Latitude=%{lat}<br>Longitude=%{lon}<extra></extra>\",\"hovertext\":[\"Boston\",\"Isle Royale\",\"Voyageurs\",\"Theodore Roosevelt\",\"Badlands\",\"Wind Cave\",\"Yellowstone\",\"Boston\"],\"lat\":[42.36325261897069,47.47,48.4,46.97,43.75,43.57,44.48895807918335,42.36325261897069],\"legendgroup\":\"12\",\"line\":{\"color\":\"#FECB52\",\"dash\":\"solid\"},\"lon\":[-71.0857617716905,-87.89,-92.84,-103.45,-102.5,-103.48,-110.00263203959054,-71.0857617716905],\"marker\":{\"symbol\":\"circle\"},\"mode\":\"lines+markers\",\"name\":\"12\",\"showlegend\":true,\"type\":\"scattergeo\"},{\"geo\":\"geo\",\"hovertemplate\":\"<b>%{hovertext}</b><br><br>subtrip=13<br>Latitude=%{lat}<br>Longitude=%{lon}<extra></extra>\",\"hovertext\":[\"Boston\",\"Gates of the Arctic\",\"Kobuk Valley\",\"Boston\"],\"lat\":[42.36325261897069,67.86,67.25884538094942,42.36325261897069],\"legendgroup\":\"13\",\"line\":{\"color\":\"#636efa\",\"dash\":\"solid\"},\"lon\":[-71.0857617716905,-149.82,-150.18101916368872,-71.0857617716905],\"marker\":{\"symbol\":\"circle\"},\"mode\":\"lines+markers\",\"name\":\"13\",\"showlegend\":true,\"type\":\"scattergeo\"},{\"geo\":\"geo\",\"hovertemplate\":\"<b>%{hovertext}</b><br><br>subtrip=14<br>Latitude=%{lat}<br>Longitude=%{lon}<extra></extra>\",\"hovertext\":[\"Boston\",\"Lassen Volcanic\",\"Sequoia\",\"Kings Canyon\",\"Yosemite\",\"Boston\"],\"lat\":[42.36325261897069,40.49,36.43,36.8,37.83,42.36325261897069],\"legendgroup\":\"14\",\"line\":{\"color\":\"#EF553B\",\"dash\":\"solid\"},\"lon\":[-71.0857617716905,-121.51,-118.68,-118.55,-119.5,-71.0857617716905],\"marker\":{\"symbol\":\"circle\"},\"mode\":\"lines+markers\",\"name\":\"14\",\"showlegend\":true,\"type\":\"scattergeo\"},{\"geo\":\"geo\",\"hovertemplate\":\"<b>%{hovertext}</b><br><br>subtrip=15<br>Latitude=%{lat}<br>Longitude=%{lon}<extra></extra>\",\"hovertext\":[\"Boston\",\"Katmai\",\"Kenai Fjords\",\"Lake Clark\",\"Denali\",\"Wrangell\\u2013St. Elias\",\"Glacier Bay\",\"Boston\"],\"lat\":[42.36325261897069,59.791854098425695,59.92,61.22714570601087,63.73,62.71,59.26083557990791,42.36325261897069],\"legendgroup\":\"15\",\"line\":{\"color\":\"#00cc96\",\"dash\":\"solid\"},\"lon\":[-71.0857617716905,-151.5096002142428,-149.65,-150.0144746056985,-148.89,-143.98,-135.52717573861582,-71.0857617716905],\"marker\":{\"symbol\":\"circle\"},\"mode\":\"lines+markers\",\"name\":\"15\",\"showlegend\":true,\"type\":\"scattergeo\"},{\"geo\":\"geo\",\"hovertemplate\":\"<b>%{hovertext}</b><br><br>subtrip=16<br>Latitude=%{lat}<br>Longitude=%{lon}<extra></extra>\",\"hovertext\":[\"Boston\",\"Crater Lake\",\"Channel Islands\",\"Pinnacles\",\"Redwood\",\"Boston\"],\"lat\":[42.36325261897069,42.94,34.41,36.48,41.3,42.36325261897069],\"legendgroup\":\"16\",\"line\":{\"color\":\"#ab63fa\",\"dash\":\"solid\"},\"lon\":[-71.0857617716905,-122.1,-119.88,-121.16,-124.0,-71.0857617716905],\"marker\":{\"symbol\":\"circle\"},\"mode\":\"lines+markers\",\"name\":\"16\",\"showlegend\":true,\"type\":\"scattergeo\"},{\"geo\":\"geo\",\"hovertemplate\":\"<b>%{hovertext}</b><br><br>subtrip=17<br>Latitude=%{lat}<br>Longitude=%{lon}<extra></extra>\",\"hovertext\":[\"Boston\",\"Canyonlands\",\"Capitol Reef\",\"Great Basin\",\"Zion\",\"Death Valley\",\"Joshua Tree\",\"Boston\"],\"lat\":[42.36325261897069,38.2,38.2,38.98,37.3,36.24,33.79,42.36325261897069],\"legendgroup\":\"17\",\"line\":{\"color\":\"#FFA15A\",\"dash\":\"solid\"},\"lon\":[-71.0857617716905,-109.93,-111.17,-114.3,-113.05,-116.82,-115.9,-71.0857617716905],\"marker\":{\"symbol\":\"circle\"},\"mode\":\"lines+markers\",\"name\":\"17\",\"showlegend\":true,\"type\":\"scattergeo\"},{\"geo\":\"geo\",\"hovertemplate\":\"<b>%{hovertext}</b><br><br>subtrip=18<br>Latitude=%{lat}<br>Longitude=%{lon}<extra></extra>\",\"hovertext\":[\"Boston\",\"Acadia\",\"Boston\"],\"lat\":[42.36325261897069,44.35,42.36325261897069],\"legendgroup\":\"18\",\"line\":{\"color\":\"#19d3f3\",\"dash\":\"solid\"},\"lon\":[-71.0857617716905,-68.21,-71.0857617716905],\"marker\":{\"symbol\":\"circle\"},\"mode\":\"lines+markers\",\"name\":\"18\",\"showlegend\":true,\"type\":\"scattergeo\"},{\"geo\":\"geo\",\"hovertemplate\":\"<b>%{hovertext}</b><br><br>subtrip=19<br>Latitude=%{lat}<br>Longitude=%{lon}<extra></extra>\",\"hovertext\":[\"Boston\",\"Shenandoah\",\"Congaree\",\"Everglades\",\"Biscayne\",\"Dry Tortugas\",\"Boston\"],\"lat\":[42.36325261897069,38.53,33.78,25.221036121576688,25.47,24.546874315824248,42.36325261897069],\"legendgroup\":\"19\",\"line\":{\"color\":\"#FF6692\",\"dash\":\"solid\"},\"lon\":[-71.0857617716905,-78.35,-80.78,-80.85001594082607,-80.33,-81.80977195176163,-71.0857617716905],\"marker\":{\"symbol\":\"circle\"},\"mode\":\"lines+markers\",\"name\":\"19\",\"showlegend\":true,\"type\":\"scattergeo\"}],                        {\"template\":{\"data\":{\"histogram2dcontour\":[{\"type\":\"histogram2dcontour\",\"colorbar\":{\"outlinewidth\":0,\"ticks\":\"\"},\"colorscale\":[[0.0,\"#0d0887\"],[0.1111111111111111,\"#46039f\"],[0.2222222222222222,\"#7201a8\"],[0.3333333333333333,\"#9c179e\"],[0.4444444444444444,\"#bd3786\"],[0.5555555555555556,\"#d8576b\"],[0.6666666666666666,\"#ed7953\"],[0.7777777777777778,\"#fb9f3a\"],[0.8888888888888888,\"#fdca26\"],[1.0,\"#f0f921\"]]}],\"choropleth\":[{\"type\":\"choropleth\",\"colorbar\":{\"outlinewidth\":0,\"ticks\":\"\"}}],\"histogram2d\":[{\"type\":\"histogram2d\",\"colorbar\":{\"outlinewidth\":0,\"ticks\":\"\"},\"colorscale\":[[0.0,\"#0d0887\"],[0.1111111111111111,\"#46039f\"],[0.2222222222222222,\"#7201a8\"],[0.3333333333333333,\"#9c179e\"],[0.4444444444444444,\"#bd3786\"],[0.5555555555555556,\"#d8576b\"],[0.6666666666666666,\"#ed7953\"],[0.7777777777777778,\"#fb9f3a\"],[0.8888888888888888,\"#fdca26\"],[1.0,\"#f0f921\"]]}],\"heatmap\":[{\"type\":\"heatmap\",\"colorbar\":{\"outlinewidth\":0,\"ticks\":\"\"},\"colorscale\":[[0.0,\"#0d0887\"],[0.1111111111111111,\"#46039f\"],[0.2222222222222222,\"#7201a8\"],[0.3333333333333333,\"#9c179e\"],[0.4444444444444444,\"#bd3786\"],[0.5555555555555556,\"#d8576b\"],[0.6666666666666666,\"#ed7953\"],[0.7777777777777778,\"#fb9f3a\"],[0.8888888888888888,\"#fdca26\"],[1.0,\"#f0f921\"]]}],\"heatmapgl\":[{\"type\":\"heatmapgl\",\"colorbar\":{\"outlinewidth\":0,\"ticks\":\"\"},\"colorscale\":[[0.0,\"#0d0887\"],[0.1111111111111111,\"#46039f\"],[0.2222222222222222,\"#7201a8\"],[0.3333333333333333,\"#9c179e\"],[0.4444444444444444,\"#bd3786\"],[0.5555555555555556,\"#d8576b\"],[0.6666666666666666,\"#ed7953\"],[0.7777777777777778,\"#fb9f3a\"],[0.8888888888888888,\"#fdca26\"],[1.0,\"#f0f921\"]]}],\"contourcarpet\":[{\"type\":\"contourcarpet\",\"colorbar\":{\"outlinewidth\":0,\"ticks\":\"\"}}],\"contour\":[{\"type\":\"contour\",\"colorbar\":{\"outlinewidth\":0,\"ticks\":\"\"},\"colorscale\":[[0.0,\"#0d0887\"],[0.1111111111111111,\"#46039f\"],[0.2222222222222222,\"#7201a8\"],[0.3333333333333333,\"#9c179e\"],[0.4444444444444444,\"#bd3786\"],[0.5555555555555556,\"#d8576b\"],[0.6666666666666666,\"#ed7953\"],[0.7777777777777778,\"#fb9f3a\"],[0.8888888888888888,\"#fdca26\"],[1.0,\"#f0f921\"]]}],\"surface\":[{\"type\":\"surface\",\"colorbar\":{\"outlinewidth\":0,\"ticks\":\"\"},\"colorscale\":[[0.0,\"#0d0887\"],[0.1111111111111111,\"#46039f\"],[0.2222222222222222,\"#7201a8\"],[0.3333333333333333,\"#9c179e\"],[0.4444444444444444,\"#bd3786\"],[0.5555555555555556,\"#d8576b\"],[0.6666666666666666,\"#ed7953\"],[0.7777777777777778,\"#fb9f3a\"],[0.8888888888888888,\"#fdca26\"],[1.0,\"#f0f921\"]]}],\"mesh3d\":[{\"type\":\"mesh3d\",\"colorbar\":{\"outlinewidth\":0,\"ticks\":\"\"}}],\"scatter\":[{\"fillpattern\":{\"fillmode\":\"overlay\",\"size\":10,\"solidity\":0.2},\"type\":\"scatter\"}],\"parcoords\":[{\"type\":\"parcoords\",\"line\":{\"colorbar\":{\"outlinewidth\":0,\"ticks\":\"\"}}}],\"scatterpolargl\":[{\"type\":\"scatterpolargl\",\"marker\":{\"colorbar\":{\"outlinewidth\":0,\"ticks\":\"\"}}}],\"bar\":[{\"error_x\":{\"color\":\"#2a3f5f\"},\"error_y\":{\"color\":\"#2a3f5f\"},\"marker\":{\"line\":{\"color\":\"#E5ECF6\",\"width\":0.5},\"pattern\":{\"fillmode\":\"overlay\",\"size\":10,\"solidity\":0.2}},\"type\":\"bar\"}],\"scattergeo\":[{\"type\":\"scattergeo\",\"marker\":{\"colorbar\":{\"outlinewidth\":0,\"ticks\":\"\"}}}],\"scatterpolar\":[{\"type\":\"scatterpolar\",\"marker\":{\"colorbar\":{\"outlinewidth\":0,\"ticks\":\"\"}}}],\"histogram\":[{\"marker\":{\"pattern\":{\"fillmode\":\"overlay\",\"size\":10,\"solidity\":0.2}},\"type\":\"histogram\"}],\"scattergl\":[{\"type\":\"scattergl\",\"marker\":{\"colorbar\":{\"outlinewidth\":0,\"ticks\":\"\"}}}],\"scatter3d\":[{\"type\":\"scatter3d\",\"line\":{\"colorbar\":{\"outlinewidth\":0,\"ticks\":\"\"}},\"marker\":{\"colorbar\":{\"outlinewidth\":0,\"ticks\":\"\"}}}],\"scattermapbox\":[{\"type\":\"scattermapbox\",\"marker\":{\"colorbar\":{\"outlinewidth\":0,\"ticks\":\"\"}}}],\"scatterternary\":[{\"type\":\"scatterternary\",\"marker\":{\"colorbar\":{\"outlinewidth\":0,\"ticks\":\"\"}}}],\"scattercarpet\":[{\"type\":\"scattercarpet\",\"marker\":{\"colorbar\":{\"outlinewidth\":0,\"ticks\":\"\"}}}],\"carpet\":[{\"aaxis\":{\"endlinecolor\":\"#2a3f5f\",\"gridcolor\":\"white\",\"linecolor\":\"white\",\"minorgridcolor\":\"white\",\"startlinecolor\":\"#2a3f5f\"},\"baxis\":{\"endlinecolor\":\"#2a3f5f\",\"gridcolor\":\"white\",\"linecolor\":\"white\",\"minorgridcolor\":\"white\",\"startlinecolor\":\"#2a3f5f\"},\"type\":\"carpet\"}],\"table\":[{\"cells\":{\"fill\":{\"color\":\"#EBF0F8\"},\"line\":{\"color\":\"white\"}},\"header\":{\"fill\":{\"color\":\"#C8D4E3\"},\"line\":{\"color\":\"white\"}},\"type\":\"table\"}],\"barpolar\":[{\"marker\":{\"line\":{\"color\":\"#E5ECF6\",\"width\":0.5},\"pattern\":{\"fillmode\":\"overlay\",\"size\":10,\"solidity\":0.2}},\"type\":\"barpolar\"}],\"pie\":[{\"automargin\":true,\"type\":\"pie\"}]},\"layout\":{\"autotypenumbers\":\"strict\",\"colorway\":[\"#636efa\",\"#EF553B\",\"#00cc96\",\"#ab63fa\",\"#FFA15A\",\"#19d3f3\",\"#FF6692\",\"#B6E880\",\"#FF97FF\",\"#FECB52\"],\"font\":{\"color\":\"#2a3f5f\"},\"hovermode\":\"closest\",\"hoverlabel\":{\"align\":\"left\"},\"paper_bgcolor\":\"white\",\"plot_bgcolor\":\"#E5ECF6\",\"polar\":{\"bgcolor\":\"#E5ECF6\",\"angularaxis\":{\"gridcolor\":\"white\",\"linecolor\":\"white\",\"ticks\":\"\"},\"radialaxis\":{\"gridcolor\":\"white\",\"linecolor\":\"white\",\"ticks\":\"\"}},\"ternary\":{\"bgcolor\":\"#E5ECF6\",\"aaxis\":{\"gridcolor\":\"white\",\"linecolor\":\"white\",\"ticks\":\"\"},\"baxis\":{\"gridcolor\":\"white\",\"linecolor\":\"white\",\"ticks\":\"\"},\"caxis\":{\"gridcolor\":\"white\",\"linecolor\":\"white\",\"ticks\":\"\"}},\"coloraxis\":{\"colorbar\":{\"outlinewidth\":0,\"ticks\":\"\"}},\"colorscale\":{\"sequential\":[[0.0,\"#0d0887\"],[0.1111111111111111,\"#46039f\"],[0.2222222222222222,\"#7201a8\"],[0.3333333333333333,\"#9c179e\"],[0.4444444444444444,\"#bd3786\"],[0.5555555555555556,\"#d8576b\"],[0.6666666666666666,\"#ed7953\"],[0.7777777777777778,\"#fb9f3a\"],[0.8888888888888888,\"#fdca26\"],[1.0,\"#f0f921\"]],\"sequentialminus\":[[0.0,\"#0d0887\"],[0.1111111111111111,\"#46039f\"],[0.2222222222222222,\"#7201a8\"],[0.3333333333333333,\"#9c179e\"],[0.4444444444444444,\"#bd3786\"],[0.5555555555555556,\"#d8576b\"],[0.6666666666666666,\"#ed7953\"],[0.7777777777777778,\"#fb9f3a\"],[0.8888888888888888,\"#fdca26\"],[1.0,\"#f0f921\"]],\"diverging\":[[0,\"#8e0152\"],[0.1,\"#c51b7d\"],[0.2,\"#de77ae\"],[0.3,\"#f1b6da\"],[0.4,\"#fde0ef\"],[0.5,\"#f7f7f7\"],[0.6,\"#e6f5d0\"],[0.7,\"#b8e186\"],[0.8,\"#7fbc41\"],[0.9,\"#4d9221\"],[1,\"#276419\"]]},\"xaxis\":{\"gridcolor\":\"white\",\"linecolor\":\"white\",\"ticks\":\"\",\"title\":{\"standoff\":15},\"zerolinecolor\":\"white\",\"automargin\":true,\"zerolinewidth\":2},\"yaxis\":{\"gridcolor\":\"white\",\"linecolor\":\"white\",\"ticks\":\"\",\"title\":{\"standoff\":15},\"zerolinecolor\":\"white\",\"automargin\":true,\"zerolinewidth\":2},\"scene\":{\"xaxis\":{\"backgroundcolor\":\"#E5ECF6\",\"gridcolor\":\"white\",\"linecolor\":\"white\",\"showbackground\":true,\"ticks\":\"\",\"zerolinecolor\":\"white\",\"gridwidth\":2},\"yaxis\":{\"backgroundcolor\":\"#E5ECF6\",\"gridcolor\":\"white\",\"linecolor\":\"white\",\"showbackground\":true,\"ticks\":\"\",\"zerolinecolor\":\"white\",\"gridwidth\":2},\"zaxis\":{\"backgroundcolor\":\"#E5ECF6\",\"gridcolor\":\"white\",\"linecolor\":\"white\",\"showbackground\":true,\"ticks\":\"\",\"zerolinecolor\":\"white\",\"gridwidth\":2}},\"shapedefaults\":{\"line\":{\"color\":\"#2a3f5f\"}},\"annotationdefaults\":{\"arrowcolor\":\"#2a3f5f\",\"arrowhead\":0,\"arrowwidth\":1},\"geo\":{\"bgcolor\":\"white\",\"landcolor\":\"#E5ECF6\",\"subunitcolor\":\"white\",\"showland\":true,\"showlakes\":true,\"lakecolor\":\"white\"},\"title\":{\"x\":0.05},\"mapbox\":{\"style\":\"light\"}}},\"geo\":{\"domain\":{\"x\":[0.0,1.0],\"y\":[0.0,1.0]},\"center\":{}},\"legend\":{\"title\":{\"text\":\"subtrip\"},\"tracegroupgap\":0},\"margin\":{\"t\":60}},                        {\"responsive\": true}                    ).then(function(){\n",
       "                            \n",
       "var gd = document.getElementById('cc44ce73-1a3d-436d-88e8-c4c4e8fc9c9b');\n",
       "var x = new MutationObserver(function (mutations, observer) {{\n",
       "        var display = window.getComputedStyle(gd).display;\n",
       "        if (!display || display === 'none') {{\n",
       "            console.log([gd, 'removed!']);\n",
       "            Plotly.purge(gd);\n",
       "            observer.disconnect();\n",
       "        }}\n",
       "}});\n",
       "\n",
       "// Listen for the removal of the full notebook cells\n",
       "var notebookContainer = gd.closest('#notebook-container');\n",
       "if (notebookContainer) {{\n",
       "    x.observe(notebookContainer, {childList: true});\n",
       "}}\n",
       "\n",
       "// Listen for the clearing of the current output cell\n",
       "var outputEl = gd.closest('.output');\n",
       "if (outputEl) {{\n",
       "    x.observe(outputEl, {childList: true});\n",
       "}}\n",
       "\n",
       "                        })                };                });            </script>        </div>"
      ]
     },
     "metadata": {},
     "output_type": "display_data"
    }
   ],
   "source": [
    "# Graphic MAP with trip solution\n",
    "\n",
    "import plotly.graph_objects as go\n",
    "import plotly.express as px\n",
    "import pandas as pd\n",
    "\n",
    "newdf = pd.DataFrame()\n",
    "df = pd.read_csv('Updated_input_Boston.csv')\n",
    "df['subtrip'] = [0] * 63\n",
    "\n",
    "for i in routes_numbers:\n",
    "    df['subtrip'] = i\n",
    "    for g in routes_numbers[i]:\n",
    "        if g == 0:\n",
    "            newdf = newdf.append(df.loc[[g]])\n",
    "        else:\n",
    "            newdf = newdf.append(df.loc[[g]])\n",
    "\n",
    "fig = px.line_geo(newdf, lon=\"Longitude\", lat=\"Latitude\", hover_name=\"Park\", markers=True, color='subtrip')\n",
    "fig.show()"
   ]
  },
  {
   "cell_type": "code",
   "execution_count": 17,
   "id": "2f6e98be",
   "metadata": {},
   "outputs": [],
   "source": [
    "# After optimizing, write to output file\n",
    "# Remember to change name of file according to each solution generated\n",
    "\n",
    "titles = ['Subgroup Details','Total Drive Distance', 'Total Travel Time', 'Total Time at Parks', 'Flight Count']\n",
    "with open('park_trips_v1.csv', mode='w', newline='', encoding = 'UTF-8') as f:\n",
    "    \n",
    "    writer = csv.writer(f, delimiter=',', quotechar='\"', quoting=csv.QUOTE_NONNUMERIC)\n",
    "    writer.writerow(titles)\n",
    "    for t in travel_summary:\n",
    "        row = [routes_parks[t], travel_summary[t][0],travel_summary[t][1], travel_summary[t][2], travel_summary[t][3]]\n",
    "        # write row to file\n",
    "        writer.writerow(row)"
   ]
  }
 ],
 "metadata": {
  "kernelspec": {
   "display_name": "Python 3 (ipykernel)",
   "language": "python",
   "name": "python3"
  },
  "language_info": {
   "codemirror_mode": {
    "name": "ipython",
    "version": 3
   },
   "file_extension": ".py",
   "mimetype": "text/x-python",
   "name": "python",
   "nbconvert_exporter": "python",
   "pygments_lexer": "ipython3",
   "version": "3.10.2"
  }
 },
 "nbformat": 4,
 "nbformat_minor": 5
}
